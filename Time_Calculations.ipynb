{
  "nbformat": 4,
  "nbformat_minor": 0,
  "metadata": {
    "colab": {
      "provenance": []
    },
    "kernelspec": {
      "name": "python3",
      "display_name": "Python 3"
    },
    "language_info": {
      "name": "python"
    }
  },
  "cells": [
    {
      "cell_type": "code",
      "execution_count": null,
      "metadata": {
        "id": "qGs9p03E1JdP",
        "colab": {
          "base_uri": "https://localhost:8080/"
        },
        "outputId": "4c509cdf-3d62-4b92-e634-4b0f0920bc94"
      },
      "outputs": [
        {
          "output_type": "stream",
          "name": "stderr",
          "text": [
            "<ipython-input-1-66d1f3d597d5>:4: DtypeWarning: Columns (2,8,9,10,11,12,13,14,17,18,19,22,23,26,29,31,32,33,34,36,39,40,41,42,43,45,47,49,50,53,54,55,58,60,61,62,63,64,65,66,67,68,71,74,75,77,82,83,84,86,88,89,91,93,94,95,98,99,102,103,106,107,108,109,110,111,112,113,116,117,118,121,122,123,127,128,131,132,133,134,135,136,138,139,141,143,144,145,146,147,149,150,151,152,153,154,158,159,160,161,162,164,167,168,169,170,175,176,177,179,180,181,183,184,187,188,190,191,192,194,196,197,198,199,200,202,204,205,208,209,210,213,214,216,218,219,220,221,223,224,225,226,227,228,230,231,232,233,235,236,238,239,240,243,244,245,246,247,248,249,250,251,252,254,256,257,258,259,260,261,264,265,266,268,269,271,272,273,274,275,276,278,279,281,285,288,289,290,291,292,293,294,295,296,297,298,299,300,301,302,304,305,306,307,309,310,312,313,314,315,316,317,318,319,321,322,323,324,325,326,327,328,329,330,331,332,334,336,337,338,339,341,342,343,345,346,348,349,350,351,352,353,355,356,357,358,359,360,361,363,364,365,366,367,368,369,370,371,373,375,377,380,381,382,383,385,386,387,388,389,390,391,392,393,394,395,396,397,398,401,402,404,405,407,408,409,410,411,412,413,414,415,416,417,418,419,420,421,422,424,426,430,432,433,434,435,436,438,439,440,441,442,443,444,446,447,448,449,450,451,452,454,455,456,457,458,459,461,462,463,466,468,469,470,472,473,474,475,476,477,480,481,482,483,485,487,488,490,491,492,493,494,495,496,497,499,500,501,502,503,505,507,508,510,511,513,515,516,517,518,519,520,521,523,525,528,529,530,531,532,533,534,535,536,537,538,539,540,541,542,544,545,546,547,548,549,550,551,552,553,554,555,556,557,558,559,560,561,562,563,565,566,567,569,570,571,572,573,574,575,576,579,580,581,582,583,584,588,589,590,591,592,593,594,595,596,597,598,599,600,601,602,603,604,605,606,607,608,609,610,611,612,613,614,616,617,618,619,620,621,622,623,624,625,627,628,629,630,631,632,633,634,635,637,638,639,641,642,644,645,646,647,648,649,650,651,653,654,655,656,657,658,659,660,661,662,663,664,665,666,667,668,669,670,671,672,673,674,676,678,679,680,681,683,684,685,687,688,689,690,691,692,693,694,695,696,697,698,699,700,701,702,703,704,705,706,707,708,709,710,711,712,714,715,716,717,718,719,721,722,723,724,725,726,727,728,729,730,731,732,733,734,735,737,739,740,741,742,743,744,745,746,747,748,749,750,751,752,753,754,755,756,757,758,759,760,761,762,763,764,765,766,767,769,771,772,773,775,776,777,778,779,780,781,783,784,785,786,787,788,789,791,792,794,795,796,798,799,800,801,802,803,805,806,807,808,809,811,812,813,814,815,816,817,818,819,820,821,822,823,824,825,826,827,828,829,830,831,832,833,834,835,836,837,838,839,841,842,843,844,845,846,847,848,849,850,851,852,853,854,855,856,857,858,859,860,861,862,863,864,865,866,867,868,869,870,871,872,873,874,875,877,878,879,880,881,883,884,885,886,888,889,890,891,892,893,894,895,896,897,898,899,900,902,903,904,905,907,908,909,910,911,912,913,914,915,916,917,918,919,921,922,923,924,925,927,929,930,931,932,933,934,935,936,937,938,939,941,942,943,944,945,946,947,948,949,950,951,953,954,955,956,957,958,959,960,961,962,963,964,965,966,967,968,969,970,971,972,973,974,975,976,977,978,979,980,981,982,983,984,985,986,987,988,989,990,991,992,993,995,996,997,998,999,1000,1002,1003,1004,1005,1006,1008,1009,1010,1011,1012,1013,1014,1015,1017,1018,1019,1021,1022,1023,1024,1025,1026,1027,1028,1029,1030,1031,1032,1033,1034,1035,1036,1037,1038,1039,1040,1041,1042,1043,1044,1045,1046,1047,1048,1049,1050,1051,1052,1053,1055,1056,1057,1060,1061,1062,1064,1066,1067,1068,1069,1070,1071,1072,1073,1074,1075,1076,1077,1078,1079,1080,1081,1083,1084,1086,1087,1088,1089,1090,1091,1092,1093,1094,1095,1096,1097,1098,1099,1100,1101,1103,1104,1105,1108,1109,1110,1111,1112,1113,1114,1115,1116,1117,1118,1119,1120,1122,1123,1124,1125,1126,1127,1128,1129,1130,1131,1132,1134,1135,1136,1137,1138,1139,1140,1141,1142,1143,1144,1145,1146,1147,1148,1149,1150,1151,1152,1153,1155,1156,1157,1158,1159,1160,1161,1162,1163,1164,1165,1166,1167,1168,1169,1170,1171,1172,1173,1175,1176,1177,1179,1180,1181,1182,1183,1184,1185,1186,1187,1188,1189,1190,1191,1193,1194,1195,1196,1197,1198,1199,1200,1201,1202,1203,1207,1208,1209,1210,1211,1213,1214,1215,1216,1217,1218,1219,1220,1221,1222,1224,1225,1226,1227,1228,1229,1230,1231,1232,1233,1234,1235,1236,1237,1238,1239,1240,1241,1242,1244,1245,1246,1247,1248,1249,1250,1251,1253,1254,1255,1257,1258,1260,1261,1262,1263,1264,1265,1266,1267,1268,1269,1270,1271,1272,1273,1274,1275,1276,1277,1278,1279,1281,1282,1283,1284,1285,1286,1287,1288,1289) have mixed types. Specify dtype option on import or set low_memory=False.\n",
            "  paths_matrix = pd.read_csv('paths_matrix.csv')\n"
          ]
        }
      ],
      "source": [
        "import pandas as pd\n",
        "import numpy as np\n",
        "\n",
        "paths_matrix = pd.read_csv('paths_matrix.csv')"
      ]
    },
    {
      "cell_type": "code",
      "source": [
        "paths_matrix.iloc[7, 9]"
      ],
      "metadata": {
        "id": "T7FKLpMUHRIY",
        "colab": {
          "base_uri": "https://localhost:8080/",
          "height": 35
        },
        "outputId": "5a0b7507-75bc-4d6d-a270-cdfd5cc793b0"
      },
      "execution_count": null,
      "outputs": [
        {
          "output_type": "execute_result",
          "data": {
            "text/plain": [
              "'0 | 8, -118.452772 34.0757716, -118.4530602 34.0757596, -118.453205 34.0757289, -118.4533365 34.0756729, -118.453437 34.0756004, -118.453472 34.0755718, 10'"
            ],
            "application/vnd.google.colaboratory.intrinsic+json": {
              "type": "string"
            }
          },
          "metadata": {},
          "execution_count": 3
        }
      ]
    },
    {
      "cell_type": "code",
      "source": [
        "paths_matrix.head().iloc[1, 2]"
      ],
      "metadata": {
        "id": "GsKaxJ9v5R3r",
        "colab": {
          "base_uri": "https://localhost:8080/",
          "height": 53
        },
        "outputId": "806a6579-8c54-4420-b755-e892dfdce7e9"
      },
      "execution_count": null,
      "outputs": [
        {
          "output_type": "execute_result",
          "data": {
            "text/plain": [
              "'0 | 3, -118.4397158 34.0700211, -118.4394572 34.0698782, -118.439424 34.0698519, -118.4394077 34.0698173, -118.4394126 34.0697651, -118.43942 34.0697332, 2'"
            ],
            "application/vnd.google.colaboratory.intrinsic+json": {
              "type": "string"
            }
          },
          "metadata": {},
          "execution_count": 5
        }
      ]
    },
    {
      "cell_type": "code",
      "source": [
        "def subtract_vectors(vector1, vector2):\n",
        "    # Ensure the vectors are in tuple or list form\n",
        "    components1 = vector1 if isinstance(vector1, (list, tuple)) else tuple(map(float, vector1.split()))\n",
        "    components2 = vector2 if isinstance(vector2, (list, tuple)) else tuple(map(float, vector2.split()))\n",
        "\n",
        "    # Convert the components to floats\n",
        "    float_components1 = [float(component) for component in components1]\n",
        "    float_components2 = [float(component) for component in components2]\n",
        "\n",
        "    # Calculate the difference between the two vectors\n",
        "    return tuple(c1 - c2 for c1, c2 in zip(float_components1, float_components2))\n"
      ],
      "metadata": {
        "id": "vqdE8gjFIa0X"
      },
      "execution_count": null,
      "outputs": []
    },
    {
      "cell_type": "code",
      "source": [
        "def converting_to_every_c_worse_version(list_of_coordinates, c=10):\n",
        "\n",
        "    if not isinstance(list_of_coordinates, str):\n",
        "        raise ValueError(\"Input must be a string.\")\n",
        "\n",
        "\n",
        "    # Split the string by commas\n",
        "    split_str = list_of_coordinates.split(', ')\n",
        "\n",
        "    # Extract the coordinates part, skipping the boolean and node indices\n",
        "    coordinates = split_str[1:-1]  # This removes the boolean and node indices\n",
        "\n",
        "    # Optionally, you can split each coordinate into separate variables or keep them as a list\n",
        "    coordinates = [coord.strip() for coord in coordinates]\n",
        "\n",
        "    # Convert to list of tuples with floats\n",
        "    coordinates = [tuple(map(float, item.split())) for item in coordinates]\n",
        "\n",
        "    # print(coordinates)\n",
        "\n",
        "    # last_yellow_node = False\n",
        "    second_to_last_yellow_node = False\n",
        "\n",
        "\n",
        "    current_vector = coordinates[0]\n",
        "    output_vectors = [current_vector]\n",
        "    rollover_constant = 0\n",
        "\n",
        "\n",
        "    for i in range(0, len(coordinates) - 1):\n",
        "\n",
        "        # print(\"printing \", coordinates[i])\n",
        "\n",
        "        if i == len(coordinates) - 2:\n",
        "            second_to_last_yellow_node = True\n",
        "\n",
        "        current_yellow_node = coordinates[i]\n",
        "        # print(current_yellow_node)\n",
        "        next_yellow_node = coordinates[i + 1]\n",
        "        # print(next_yellow_node)\n",
        "\n",
        "\n",
        "\n",
        "        v = subtract_vectors(next_yellow_node, current_yellow_node)\n",
        "        v_unit = (v[0] / np.linalg.norm(v), v[1] / np.linalg.norm(v))\n",
        "        v_magnitude = np.linalg.norm(v)\n",
        "\n",
        "        # print(f\"Direction vector v: {v}, Unit vector v: {v_unit}, Magnitude: {v_magnitude}\")\n",
        "\n",
        "        # print(v_unit)\n",
        "\n",
        "\n",
        "        distance_to_next = abs(v_magnitude - rollover_constant)\n",
        "        # print(distance_to_next)\n",
        "\n",
        "        while distance_to_next >= c:\n",
        "            # if rollover_constant > 0 and rollover_constant > distance_to_next:\n",
        "                    # current_vector = coordinates[i]\n",
        "                    # output_vectors.append(current_vector)\n",
        "                    # break\n",
        "            if rollover_constant > 0 and rollover_constant <= distance_to_next:\n",
        "                # print(\"rollover_constant\", rollover_constant)\n",
        "                current_vector = (float(intermediate_vector[0] + rollover_constant*v_unit[0]), float(intermediate_vector[1] + rollover_constant*v_unit[1]))\n",
        "                output_vectors.append(current_vector)\n",
        "                rollover_constant = 0\n",
        "\n",
        "\n",
        "            current_vector = (float(current_vector[0] + c*v_unit[0]), float(current_vector[1] + c*v_unit[1]))\n",
        "            output_vectors.append(current_vector)\n",
        "            # print(f\"New point added: {current_vector}\")\n",
        "            distance_to_next = distance_to_next - c\n",
        "\n",
        "        if second_to_last_yellow_node and distance_to_next < c:\n",
        "            current_vector = coordinates[i + 1]\n",
        "            output_vectors.append(current_vector)\n",
        "            # print(f\"Final point added (last node): {current_vector}\")\n",
        "            return output_vectors\n",
        "\n",
        "        if distance_to_next < c and distance_to_next > 0:\n",
        "            # if rollover_constant > 0 and rollover_constant <= distance_to_next:\n",
        "                # current_vector = (float(intermediate_vector[0]), float(intermediate_vector[1]))\n",
        "                # output_vectors.append(current_vector)\n",
        "                # rollover_constant = 0\n",
        "            rollover_constant = c - distance_to_next\n",
        "            intermediate_vector = (current_vector[0] + distance_to_next*v_unit[0], current_vector[1] + distance_to_next*v_unit[1])\n",
        "            # print(f\"Intermediate point : {intermediate_vector}\")\n",
        "            # print(\"rollover_constant\", rollover_constant)\n",
        "\n",
        "\n",
        "\n",
        "    raise ValueError(\"Something went wrong in the function converting_to_every_c.\")\n",
        "\n",
        "\n"
      ],
      "metadata": {
        "id": "7kC0GRCf5kgS"
      },
      "execution_count": null,
      "outputs": []
    },
    {
      "cell_type": "code",
      "source": [
        "ex = \"0 | 3, 10 10, 18 10, 2\"\n",
        "x = ex.split(', ')\n",
        "x[-1]"
      ],
      "metadata": {
        "colab": {
          "base_uri": "https://localhost:8080/",
          "height": 35
        },
        "id": "Qhqd8kKtigFS",
        "outputId": "4ed42e5a-04d6-4f95-904c-708f2b78698b"
      },
      "execution_count": null,
      "outputs": [
        {
          "output_type": "execute_result",
          "data": {
            "text/plain": [
              "'2'"
            ],
            "application/vnd.google.colaboratory.intrinsic+json": {
              "type": "string"
            }
          },
          "metadata": {},
          "execution_count": 28
        }
      ]
    },
    {
      "cell_type": "code",
      "source": [
        "\n",
        "import numpy as np\n",
        "\n",
        "\n",
        "def converting_to_every_c(list_of_coordinates, c=10):\n",
        "\n",
        "    if not isinstance(list_of_coordinates, str):\n",
        "        raise ValueError(\"Input must be a string.\")\n",
        "\n",
        "\n",
        "    # Split the string by commas\n",
        "    split_str = list_of_coordinates.split(', ')\n",
        "\n",
        "    # Extract the coordinates part, skipping the boolean and node indices\n",
        "    walkable = split_str[0][0]\n",
        "    start_id = split_str[0][4:]\n",
        "    end_id = split_str[-1]\n",
        "    coordinates = split_str[1:-1]  # This removes the boolean and node indices\n",
        "\n",
        "\n",
        "    # Optionally, you can split each coordinate into separate variables or keep them as a list\n",
        "    coordinates = [coord.strip() for coord in coordinates]\n",
        "\n",
        "    # Convert to list of tuples with floats\n",
        "    coordinates = [tuple(map(float, item.split())) for item in coordinates]\n",
        "\n",
        "    v_list = []\n",
        "    v_unit_list = []\n",
        "    v_magnitude_list = []\n",
        "    v_travelled_list = []\n",
        "    positions = [coordinates[0]]\n",
        "    current_distance = 0\n",
        "    total_travelled_distance = 0\n",
        "\n",
        "    for i in range(0, len(coordinates) - 1):\n",
        "\n",
        "        current_yellow_node = coordinates[i]\n",
        "        next_yellow_node = coordinates[i + 1]\n",
        "        v = subtract_vectors(next_yellow_node, current_yellow_node)\n",
        "        v_unit = (v[0] / np.linalg.norm(v), v[1] / np.linalg.norm(v))\n",
        "        v_magnitude = np.linalg.norm(v)\n",
        "        v_list.append(v)\n",
        "        v_magnitude_list.append(v_magnitude)\n",
        "        v_unit_list.append(v_unit)\n",
        "\n",
        "        # total_distance = sum(v_magnitude_list)\n",
        "        # cumulative_distance = np.cumsum(v_magnitude_list)\n",
        "\n",
        "        while current_distance + v_magnitude >= c:\n",
        "            # How much we need to travel to reach distance `c`\n",
        "            remaining_distance = c - current_distance\n",
        "            traveled_distance = remaining_distance\n",
        "\n",
        "            # Calculate the new position after traveling 'traveled_distance' along the unit vector\n",
        "            new_position = (\n",
        "                float(current_yellow_node[0] + v_unit[0] * traveled_distance),\n",
        "                float(current_yellow_node[1] + v_unit[1] * traveled_distance)\n",
        "            )\n",
        "            positions.append(new_position)\n",
        "\n",
        "            # Update the remaining magnitude for the current step\n",
        "            v_magnitude -= traveled_distance\n",
        "            current_yellow_node = new_position\n",
        "            current_distance = 0  # Reset distance after reaching `c`\n",
        "\n",
        "        # Add the remaining part of the step to the traveled distance\n",
        "        current_distance += v_magnitude\n",
        "        total_travelled_distance += v_magnitude\n",
        "        # if current_distance > 0:\n",
        "          # final_position = (\n",
        "              # float(current_yellow_node[0] + v_unit[0] * current_distance),\n",
        "              # float(current_yellow_node[1] + v_unit[1] * current_distance)\n",
        "          # )\n",
        "          # positions.append(final_position)\n",
        "    final_position = (\n",
        "          float(current_yellow_node[0] + v_unit[0] * current_distance),\n",
        "          float(current_yellow_node[1] + v_unit[1] * current_distance)\n",
        "    )\n",
        "    positions.append(final_position)\n",
        "\n",
        "    last = float(sum(v_magnitude_list) % c) #c - remainder\n",
        "\n",
        "    return positions, [last, walkable, start_id, end_id]\n"
      ],
      "metadata": {
        "id": "d1dBFBfxMTGL"
      },
      "execution_count": null,
      "outputs": []
    },
    {
      "cell_type": "code",
      "source": [
        "#create matrix to store coordinates in paths\n",
        "neighbor_matrix = [['' for j in range(len(paths_matrix))] for i in range(len(paths_matrix))]\n",
        "remainders_matrix = [['' for j in range(len(paths_matrix))] for i in range(len(paths_matrix))]\n",
        "for i in range(len(neighbor_matrix)):\n",
        "  for j in range(len(neighbor_matrix)):\n",
        "    if pd.isna(paths_matrix.iloc[i, j]):\n",
        "      continue\n",
        "    else:\n",
        "      arr = converting_to_every_c(paths_matrix.iloc[i, j], 0.0000899*2)\n",
        "      neighbor_matrix[int(arr[1][2])-1][int(arr[1][3])-1] = ' '.join(str(element) for element in arr[0]) #forward\n",
        "      neighbor_matrix[int(arr[1][3])-1][int(arr[1][2])-1] = ' '.join(str(element) for element in arr[0][::-1]) #backward\n",
        "      remainders_matrix[int(arr[1][2])-1][int(arr[1][3])-1] = 0.0000899*2 - arr[1][0] #forward\n",
        "      remainders_matrix[int(arr[1][2])-1][int(arr[1][3])-1] = arr[1][0] #backward"
      ],
      "metadata": {
        "id": "FZ7ZCfuZiA2s"
      },
      "execution_count": null,
      "outputs": []
    },
    {
      "cell_type": "code",
      "source": [
        "#create matrix to store coordinates in paths\n",
        "nex = [['' for j in range(len(paths_matrix))] for i in range(len(paths_matrix))]\n",
        "rx = [['' for j in range(len(paths_matrix))] for i in range(len(paths_matrix))]\n",
        "for i in range(len(nex)):\n",
        "  for j in range(len(nex)):\n",
        "    if pd.isna(paths_matrix.iloc[i, j]):\n",
        "      continue\n",
        "    else:\n",
        "      arr = converting_to_every_c(paths_matrix.iloc[i, j], 0.0000899*2)\n",
        "      nex[int(arr[1][2])-1][int(arr[1][3])-1] = arr[0] #forward\n",
        "      nex[int(arr[1][3])-1][int(arr[1][2])-1] = arr[0][::-1] #backward\n",
        "      rx[int(arr[1][2])-1][int(arr[1][3])-1] = 20 - arr[1][0] #forward\n",
        "      rx[int(arr[1][3])-1][int(arr[1][2])-1] = arr[1][0] #backward"
      ],
      "metadata": {
        "id": "qgksRFH6K_jI"
      },
      "execution_count": null,
      "outputs": []
    },
    {
      "cell_type": "code",
      "source": [
        "pd.DataFrame(neighbor_matrix).to_csv('neighbor_matrix.csv', index = False)"
      ],
      "metadata": {
        "id": "02E3I1-GyuKx"
      },
      "execution_count": null,
      "outputs": []
    },
    {
      "cell_type": "code",
      "source": [
        "paths_matrix.iloc[2, 1]"
      ],
      "metadata": {
        "colab": {
          "base_uri": "https://localhost:8080/"
        },
        "id": "gzy80szFOj9_",
        "outputId": "a38910ab-99f4-464e-de55-2e3788baa4e2"
      },
      "execution_count": null,
      "outputs": [
        {
          "output_type": "execute_result",
          "data": {
            "text/plain": [
              "np.float64(nan)"
            ]
          },
          "metadata": {},
          "execution_count": 304
        }
      ]
    },
    {
      "cell_type": "code",
      "source": [
        "rx[0][2]"
      ],
      "metadata": {
        "colab": {
          "base_uri": "https://localhost:8080/"
        },
        "id": "HS_0Ruk8OxQm",
        "outputId": "cf5b1000-07f8-4250-8b2f-4d3374c46e4d"
      },
      "execution_count": null,
      "outputs": [
        {
          "output_type": "execute_result",
          "data": {
            "text/plain": [
              "19.999942738145332"
            ]
          },
          "metadata": {},
          "execution_count": 309
        }
      ]
    },
    {
      "cell_type": "code",
      "source": [
        "converting_to_every_c(paths_matrix.iloc[1, 2], 0.0000899*2)"
      ],
      "metadata": {
        "colab": {
          "base_uri": "https://localhost:8080/"
        },
        "id": "pFGNBZvVOYwE",
        "outputId": "b0c32276-31fd-41b9-96d0-2a2771f388f3"
      },
      "execution_count": null,
      "outputs": [
        {
          "output_type": "execute_result",
          "data": {
            "text/plain": [
              "([(-118.4397158, 34.0700211),\n",
              "  (-118.43955842886017, 34.0699341381443),\n",
              "  (-118.43941471408597, 34.069832188795985),\n",
              "  (-118.43943556686565, 34.06966609418726)],\n",
              " [0.00010163477688986057, '0', '3', '2'])"
            ]
          },
          "metadata": {},
          "execution_count": 302
        }
      ]
    },
    {
      "cell_type": "markdown",
      "source": [
        "# Testing the algo"
      ],
      "metadata": {
        "id": "IuWVYmyblpjb"
      }
    },
    {
      "cell_type": "code",
      "source": [
        "# Test Example\n",
        "\n",
        "example_coordinates_in_string = \"0 | 3, 10 10, 18 10, 2\"\n",
        "converting_to_every_c(example_coordinates_in_string, 10)"
      ],
      "metadata": {
        "colab": {
          "base_uri": "https://localhost:8080/"
        },
        "id": "qhr5cNR-llNS",
        "outputId": "82e7dc9a-d073-4a9f-9538-93f6da4e16ae"
      },
      "execution_count": null,
      "outputs": [
        {
          "output_type": "execute_result",
          "data": {
            "text/plain": [
              "([(10.0, 10.0), (18.0, 10.0)], [8.0, '0', '3', '2'])"
            ]
          },
          "metadata": {},
          "execution_count": 31
        }
      ]
    },
    {
      "cell_type": "code",
      "source": [
        "example_coordinates_in_string = \"0 | 3, 10 10, 18 10, 2\"\n",
        "x = converting_to_every_c(example_coordinates_in_string, 10)\n",
        "#' '.join(str(element) for element in x[0])\n",
        "x[1]"
      ],
      "metadata": {
        "colab": {
          "base_uri": "https://localhost:8080/"
        },
        "id": "z1_uB-xImLuS",
        "outputId": "8c772255-45e9-4184-9047-fa5ca5d6b9c0"
      },
      "execution_count": null,
      "outputs": [
        {
          "output_type": "execute_result",
          "data": {
            "text/plain": [
              "[8.0, '0', '3', '2']"
            ]
          },
          "metadata": {},
          "execution_count": 40
        }
      ]
    },
    {
      "cell_type": "code",
      "source": [
        "# Test Example\n",
        "\n",
        "example_coordinates_in_string = \"0 | 3, 10 10, 18 18, 18 10, 2\"\n",
        "converting_to_every_c(example_coordinates_in_string, 5)"
      ],
      "metadata": {
        "id": "W0Ls_13AFQWq",
        "colab": {
          "base_uri": "https://localhost:8080/"
        },
        "outputId": "451b6a7d-23ef-4aa8-ac32-801a5a618b01"
      },
      "execution_count": null,
      "outputs": [
        {
          "output_type": "execute_result",
          "data": {
            "text/plain": [
              "([(10.0, 10.0),\n",
              "  (13.535533905932738, 13.535533905932738),\n",
              "  (17.071067811865476, 17.071067811865476),\n",
              "  (18.0, 14.313708498984761),\n",
              "  (18.0, 10.0)],\n",
              " [4.313708498984759, '0', '3', '2'])"
            ]
          },
          "metadata": {},
          "execution_count": 33
        }
      ]
    },
    {
      "cell_type": "code",
      "source": [
        "# Test Example\n",
        "\n",
        "example_coordinates_in_string = \"0 | 3, 0 0, 10 10, 15 10, 15 40, 32 40, 2\"\n",
        "converting_to_every_c(example_coordinates_in_string, 5)[0]"
      ],
      "metadata": {
        "id": "R-iaiqQTVEE3",
        "colab": {
          "base_uri": "https://localhost:8080/"
        },
        "outputId": "513e2357-9555-4619-86e7-224724cabdd3"
      },
      "execution_count": null,
      "outputs": [
        {
          "output_type": "execute_result",
          "data": {
            "text/plain": [
              "[(0.0, 0.0),\n",
              " (3.5355339059327373, 3.5355339059327373),\n",
              " (7.071067811865475, 7.071067811865475),\n",
              " (10.857864376269049, 10.0),\n",
              " (15.0, 10.857864376269049),\n",
              " (15.0, 15.857864376269049),\n",
              " (15.0, 20.85786437626905),\n",
              " (15.0, 25.85786437626905),\n",
              " (15.0, 30.85786437626905),\n",
              " (15.0, 35.85786437626905),\n",
              " (15.857864376269049, 40.0),\n",
              " (20.85786437626905, 40.0),\n",
              " (25.85786437626905, 40.0),\n",
              " (30.85786437626905, 40.0),\n",
              " (32.0, 40.0)]"
            ]
          },
          "metadata": {},
          "execution_count": 11
        }
      ]
    },
    {
      "cell_type": "code",
      "source": [
        "# Test Example\n",
        "\n",
        "example_coordinates_in_string = \"0 | 3, 10 10, 11 11, 35 10, 35 40, 73 40, 2\"\n",
        "converting_to_every_c(example_coordinates_in_string, 5)[0]"
      ],
      "metadata": {
        "id": "cJGt4ct1cc_R",
        "colab": {
          "base_uri": "https://localhost:8080/"
        },
        "outputId": "04551cbf-1ef6-46c3-d60c-cf7b087cdf7b"
      },
      "execution_count": null,
      "outputs": [
        {
          "output_type": "execute_result",
          "data": {
            "text/plain": [
              "[(10.0, 10.0),\n",
              " (14.582677822879047, 10.85072175738004),\n",
              " (19.578343188340806, 10.642569033819132),\n",
              " (24.574008553802567, 10.434416310258225),\n",
              " (29.56967391926433, 10.226263586697318),\n",
              " (34.565339284726086, 10.01811086313641),\n",
              " (35.0, 14.564962138698277),\n",
              " (35.0, 19.564962138698277),\n",
              " (35.0, 24.564962138698277),\n",
              " (35.0, 29.564962138698277),\n",
              " (35.0, 34.56496213869828),\n",
              " (35.0, 39.56496213869828),\n",
              " (39.56496213869828, 40.0),\n",
              " (44.56496213869828, 40.0),\n",
              " (49.56496213869828, 40.0),\n",
              " (54.56496213869828, 40.0),\n",
              " (59.56496213869828, 40.0),\n",
              " (64.56496213869828, 40.0),\n",
              " (69.56496213869828, 40.0),\n",
              " (73.0, 40.0)]"
            ]
          },
          "metadata": {},
          "execution_count": 12
        }
      ]
    },
    {
      "cell_type": "code",
      "source": [
        "# Test Example\n",
        "\n",
        "example_coordinates_2_in_string = \"0 | 3, 10 10, 35 35, 50 35, 65 10, 2\"\n",
        "converting_to_every_c(example_coordinates_2_in_string, 5)[0]"
      ],
      "metadata": {
        "id": "X7YLpeVURwah",
        "colab": {
          "base_uri": "https://localhost:8080/"
        },
        "outputId": "72855a24-88a8-42fd-ce3e-9ceeb0b2e9a2"
      },
      "execution_count": null,
      "outputs": [
        {
          "output_type": "execute_result",
          "data": {
            "text/plain": [
              "[(10.0, 10.0),\n",
              " (13.535533905932738, 13.535533905932738),\n",
              " (17.071067811865476, 17.071067811865476),\n",
              " (20.606601717798213, 20.606601717798213),\n",
              " (24.14213562373095, 24.14213562373095),\n",
              " (27.67766952966369, 27.67766952966369),\n",
              " (31.213203435596427, 31.213203435596427),\n",
              " (34.748737341529164, 34.748737341529164),\n",
              " (39.64466094067262, 35.0),\n",
              " (44.64466094067262, 35.0),\n",
              " (49.64466094067262, 35.0),\n",
              " (52.38965833937608, 31.017236101039856),\n",
              " (54.962137116513716, 26.729771472477136),\n",
              " (57.53461589365135, 22.442306843914416),\n",
              " (60.10709467078898, 18.154842215351696),\n",
              " (62.679573447926614, 13.867377586788976),\n",
              " (65.0, 10.000000000000004)]"
            ]
          },
          "metadata": {},
          "execution_count": 13
        }
      ]
    },
    {
      "cell_type": "code",
      "source": [
        "paths_matrix.iloc[1, 2]"
      ],
      "metadata": {
        "id": "cDgKiWMWkGEI",
        "colab": {
          "base_uri": "https://localhost:8080/",
          "height": 53
        },
        "outputId": "f3674b86-7755-4199-c7aa-969279ba7756"
      },
      "execution_count": null,
      "outputs": [
        {
          "output_type": "execute_result",
          "data": {
            "text/plain": [
              "'0 | 3, -118.4397158 34.0700211, -118.4394572 34.0698782, -118.439424 34.0698519, -118.4394077 34.0698173, -118.4394126 34.0697651, -118.43942 34.0697332, 2'"
            ],
            "application/vnd.google.colaboratory.intrinsic+json": {
              "type": "string"
            }
          },
          "metadata": {},
          "execution_count": 14
        }
      ]
    },
    {
      "cell_type": "code",
      "source": [
        "# Test Example\n",
        "\n",
        "converting_to_every_c(paths_matrix.iloc[1, 2], 0.0000899)[0]"
      ],
      "metadata": {
        "id": "yyqXXpAFj6Jw",
        "colab": {
          "base_uri": "https://localhost:8080/"
        },
        "outputId": "d84984d4-e3b9-42b1-8a32-f050a4459153"
      },
      "execution_count": null,
      "outputs": [
        {
          "output_type": "execute_result",
          "data": {
            "text/plain": [
              "[(-118.4397158, 34.0700211),\n",
              " (-118.43963711443008, 34.06997761907215),\n",
              " (-118.43955842886017, 34.0699341381443),\n",
              " (-118.43947974329025, 34.06989065721645),\n",
              " (-118.43941471408597, 34.069832188795985),\n",
              " (-118.43941734823991, 34.06974463123603),\n",
              " (-118.43942, 34.0697332)]"
            ]
          },
          "metadata": {},
          "execution_count": 15
        }
      ]
    },
    {
      "cell_type": "markdown",
      "source": [
        "# Generating the points for making sure the model is robust"
      ],
      "metadata": {
        "id": "K1AV6upzU9va"
      }
    },
    {
      "cell_type": "code",
      "source": [
        "import random\n",
        "\n",
        "# Generate 10 random coordinates on a 100x100 plane\n",
        "coordinates = [(random.randint(0, 100), random.randint(0, 100)) for _ in range(10)]\n",
        "\n",
        "# Format the coordinates as a string\n",
        "coordinates_str = \", \".join([f\"{x} {y}\" for x, y in coordinates])\n",
        "coordinates_str"
      ],
      "metadata": {
        "id": "lW6HjveRKkLI",
        "colab": {
          "base_uri": "https://localhost:8080/",
          "height": 35
        },
        "outputId": "551189f0-1472-4d73-9bc9-f49e8f9a96d7"
      },
      "execution_count": null,
      "outputs": [
        {
          "output_type": "execute_result",
          "data": {
            "text/plain": [
              "'48 58, 42 12, 65 58, 79 49, 35 74, 41 84, 15 57, 22 56, 39 84, 87 62'"
            ],
            "application/vnd.google.colaboratory.intrinsic+json": {
              "type": "string"
            }
          },
          "metadata": {},
          "execution_count": 16
        }
      ]
    },
    {
      "cell_type": "code",
      "source": [
        "import matplotlib.pyplot as plt\n",
        "\n",
        "# Extract x and y coordinates\n",
        "x_coords = [x for x, y in coordinates]\n",
        "y_coords = [y for x, y in coordinates]\n",
        "\n",
        "# Plot the coordinates with connections\n",
        "plt.figure(figsize=(6, 6))\n",
        "plt.plot(x_coords, y_coords, marker='o', linestyle='-', color='b')\n",
        "plt.title(\"Coordinates and Connections on a 2D Plane\")\n",
        "plt.xlabel(\"X-axis\")\n",
        "plt.ylabel(\"Y-axis\")\n",
        "plt.xlim(0, 100)\n",
        "plt.ylim(0, 100)\n",
        "plt.grid(True)\n",
        "plt.show()\n"
      ],
      "metadata": {
        "id": "HfktmQdgKlPW",
        "colab": {
          "base_uri": "https://localhost:8080/",
          "height": 564
        },
        "outputId": "e61f0bb1-d733-485a-a044-7fabf5c3d8c1"
      },
      "execution_count": null,
      "outputs": [
        {
          "output_type": "display_data",
          "data": {
            "text/plain": [
              "<Figure size 600x600 with 1 Axes>"
            ],
            "image/png": "[encoded data removed]"
          },
          "metadata": {}
        }
      ]
    },
    {
      "cell_type": "code",
      "source": [
        "example_string = \"0 | 2, 59 2, 56 82, 70 55, 64 51, 36 77, 76 24, 1 80, 15 71, 83 97, 16 97, 2\"\n"
      ],
      "metadata": {
        "collapsed": true,
        "id": "CpM36M9EKu54"
      },
      "execution_count": null,
      "outputs": []
    },
    {
      "cell_type": "markdown",
      "source": [],
      "metadata": {
        "id": "cjEmlwsHUxkn"
      }
    },
    {
      "cell_type": "code",
      "source": [
        "# New set of coordinates\n",
        "new_coordinates = converting_to_every_c(\"0 | 2, \" + coordinates_str + \", 2\", 10)[0]\n",
        "\n",
        "# Extract x and y coordinates for new set of coordinates\n",
        "new_x_coords = [x for x, y in new_coordinates]\n",
        "new_y_coords = [y for x, y in new_coordinates]\n",
        "\n",
        "# Plot the new coordinates with connections\n",
        "plt.figure(figsize=(6, 6))\n",
        "plt.plot(new_x_coords, new_y_coords, marker='o', linestyle='-', color='r')\n",
        "plt.title(\"New Coordinates and Connections on a 2D Plane\")\n",
        "plt.xlabel(\"X-axis\")\n",
        "plt.ylabel(\"Y-axis\")\n",
        "plt.xlim(0, 100)\n",
        "plt.ylim(0, 100)\n",
        "plt.grid(True)\n",
        "plt.show()\n"
      ],
      "metadata": {
        "id": "MtJAaXxDLZxS",
        "colab": {
          "base_uri": "https://localhost:8080/",
          "height": 564
        },
        "outputId": "58c87780-3112-4d87-ea61-f2afd35d1713"
      },
      "execution_count": null,
      "outputs": [
        {
          "output_type": "display_data",
          "data": {
            "text/plain": [
              "<Figure size 600x600 with 1 Axes>"
            ],
            "image/png": "[encoded data removed]"
          },
          "metadata": {}
        }
      ]
    },
    {
      "cell_type": "markdown",
      "source": [
        "# Dijkstra's Algorithm with shortest path"
      ],
      "metadata": {
        "id": "9OaM4G9sraYN"
      }
    },
    {
      "cell_type": "code",
      "source": [
        "import matplotlib.pyplot as plt\n",
        "import networkx as nx\n",
        "\n",
        "# Create a more complex graph\n",
        "G = nx.Graph()\n",
        "\n",
        "# Add edges with weights\n",
        "G.add_weighted_edges_from([\n",
        "    (0, 1, 3),\n",
        "    (1, 2, 1),\n",
        "    (2, 3, 2),\n",
        "    (0, 3, 10),\n",
        "    (3, 4, 5),\n",
        "    (4, 5, 7),\n",
        "    (2, 5, 4),\n",
        "    (1, 4, 6),\n",
        "    (0, 2, 8)\n",
        "])\n",
        "\n",
        "# Compute the shortest path using Dijkstra's algorithm\n",
        "start, end = 0, 5\n",
        "shortest_path = nx.dijkstra_path(G, source=start, target=end, weight='weight')\n",
        "shortest_distance = nx.dijkstra_path_length(G, source=start, target=end, weight='weight')\n",
        "\n",
        "# Print the shortest path and distance\n",
        "print(f\"Shortest path from {start} to {end}: {shortest_path}\")\n",
        "print(f\"Shortest distance from {start} to {end}: {shortest_distance}\")\n",
        "\n",
        "# Draw the graph with node labels and edge weights\n",
        "pos = nx.spring_layout(G)  # Use spring layout for better visual positioning\n",
        "nx.draw(G, pos, with_labels=True, node_color='lightblue', font_weight='bold', node_size=500, font_size=10)\n",
        "\n",
        "# Draw edge labels (weights)\n",
        "edge_labels = nx.get_edge_attributes(G, 'weight')\n",
        "nx.draw_networkx_edge_labels(G, pos, edge_labels=edge_labels)\n",
        "\n",
        "# Show the graph\n",
        "plt.show()\n"
      ],
      "metadata": {
        "id": "1a9lP9HmrZEj",
        "colab": {
          "base_uri": "https://localhost:8080/",
          "height": 552
        },
        "outputId": "4a86abc9-bd9e-4f57-bed4-8a556180a789"
      },
      "execution_count": null,
      "outputs": [
        {
          "output_type": "stream",
          "name": "stdout",
          "text": [
            "Shortest path from 0 to 5: [0, 1, 2, 5]\n",
            "Shortest distance from 0 to 5: 8\n"
          ]
        },
        {
          "output_type": "display_data",
          "data": {
            "text/plain": [
              "<Figure size 640x480 with 1 Axes>"
            ],
            "image/png": "[encoded data removed]"
          },
          "metadata": {}
        }
      ]
    },
    {
      "cell_type": "code",
      "source": [
        "\n",
        "\n",
        "def interpolate_euclidean(start, end, segment_length=10):\n",
        "    \"\"\"\n",
        "    Approximates a path between two lat/lon points using Euclidean formulas\n",
        "    and interpolates points every `segment_length` meters.\n",
        "    \"\"\"\n",
        "    lat1, lon1 = start\n",
        "    lat2, lon2 = end\n",
        "\n",
        "    # Convert lat/lon to meters\n",
        "    dx = (lon2 - lon1) * 111320 * np.cos(np.radians(lat1))  # Adjust for latitude\n",
        "    dy = (lat2 - lat1) * 111320  # Approximate meters per degree of latitude\n",
        "\n",
        "    # Compute Euclidean distance\n",
        "    dist = np.sqrt(dx**2 + dy**2)\n",
        "\n",
        "    if dist < segment_length:\n",
        "        return [start, end]  # If the segment is too short, return original\n",
        "\n",
        "    # Number of segments\n",
        "    num_segments = int(dist // segment_length)\n",
        "\n",
        "    # Interpolate points\n",
        "    interpolated_points = [\n",
        "        (\n",
        "            lat1 + (i / num_segments) * (lat2 - lat1),\n",
        "            lon1 + (i / num_segments) * (lon2 - lon1)\n",
        "        )\n",
        "        for i in range(1, num_segments + 1)\n",
        "    ]\n",
        "\n",
        "    return [start] + interpolated_points + [end]\n",
        "\n"
      ],
      "metadata": {
        "id": "2neiBeheENj0"
      },
      "execution_count": null,
      "outputs": []
    },
    {
      "cell_type": "markdown",
      "source": [
        "## ELEVATION API"
      ],
      "metadata": {
        "id": "4Wjd3K79lDsI"
      }
    },
    {
      "cell_type": "code",
      "source": [
        "\n",
        "import requests\n",
        "import time\n",
        "import pandas as pd\n",
        "import re\n",
        "\n",
        "\n",
        "\n",
        "df = pd.read_csv(\"neighbor_matrix2.csv\")\n",
        "\n",
        "\n",
        "def extract_coordinates(text):\n",
        "    if isinstance(text, str):\n",
        "        return re.findall(r'\\(-?\\d+\\.\\d+, -?\\d+\\.\\d+\\)', text)\n",
        "    return []\n",
        "\n",
        "\n",
        "coordinates = []\n",
        "for col in df.columns:\n",
        "    for value in df[col].dropna():\n",
        "        coords = extract_coordinates(value)\n",
        "        for coord in coords:\n",
        "            lon, lat = map(float, coord.strip(\"()\").split(\", \"))\n",
        "            coordinates.append((lat, lon))\n",
        "\n",
        "# Open-Elevation API endpoint\n",
        "api_url = \"https://api.open-elevation.com/api/v1/lookup\"\n",
        "\n",
        "# Function to get elevation\n",
        "def get_elevation(lat, lon):\n",
        "    response = requests.get(api_url, params={\"locations\": f\"{lat},{lon}\"})\n",
        "    if response.status_code == 200:\n",
        "        try:\n",
        "            return response.json()[\"results\"][0][\"elevation\"]\n",
        "        except (KeyError, IndexError):\n",
        "            return None\n",
        "    return None\n",
        "\n",
        "# Retrieve elevation data\n",
        "elevations = []\n",
        "for lat, lon in coordinates:\n",
        "    elevation = get_elevation(lat, lon)\n",
        "    elevations.append(elevation)\n",
        "    time.sleep(0.5)  # Avoid API rate limits\n"
      ],
      "metadata": {
        "id": "AuL32uXwEcwc",
        "colab": {
          "base_uri": "https://localhost:8080/"
        },
        "outputId": "ab32a707-76ad-4e64-b65b-371c7f105ec5"
      },
      "execution_count": null,
      "outputs": [
        {
          "metadata": {
            "tags": null
          },
          "name": "stderr",
          "output_type": "stream",
          "text": [
            "<ipython-input-124-82cb8e20cd07>:8: DtypeWarning: Columns (0,3,4,5,6,7,8,9,11,12,13,14,15,16,18,19,20,21,22,23,24,25,26,27,28,29,30,31,32,33,34,35,36,37,38,39,40,41,42,43,44,45,46,47,48,49,50,51,52,53,54,55,56,57,58,59,60,61,62,63,64,65,66,67,68,70,71,72,73,74,75,76,77,78,79,80,81,82,83,85,86,87,88,89,90,91,93,94,96,97,98,99,100,101,102,103,104,105,106,107,108,109,110,111,112,114,115,116,117,118,121,122,123,124,125,126,127,128,130,131,132,133,134,135,136,137,138,139,140,141,142,143,144,145,146,147,148,149,150,151,152,153,154,155,156,157,158,160,161,162,163,164,165,166,167,168,169,170,171,172,173,174,175,176,178,179,180,181,182,183,184,185,186,187,188,189,190,191,192,193,194,195,196,197,198,199,200,201,202,204,205,206,207,208,209,211,212,213,214,215,216,217,218,219,220,221,222,223,225,226,227,228,229,231,232,233,234,235,236,237,238,239,240,241,242,244,245,246,248,249,250,251,252,253,254,255,256,257,258,259,260,262,263,264,265,266,267,268,270,271,272,273,274,275,276,277,278,279,280,281,282,283,284,285,286,287,288,289,290,291,292,293,294,295,296,298,300,301,302,303,304,305,306,307,308,309,310,311,312,313,314,315,316,317,318,319,320,321,322,323,324,325,326,327,328,329,330,331,332,333,334,335,336,337,338,339,340,341,342,344,345,346,347,348,349,350,351,352,353,354,356,357,358,359,360,361,362,363,364,365,366,367,368,369,370,371,372,373,374,375,376,377,378,379,380,381,383,384,385,386,387,388,389,390,391,392,393,395,396,397,399,400,401,402,403,404,405,406,407,408,409,410,411,412,413,414,415,416,417,418,419,421,422,423,424,425,426,427,428,429,430,431,433,434,435,436,437,438,439,440,441,442,443,444,445,446,447,448,449,450,451,452,453,454,455,456,457,458,459,460,462,463,464,465,466,467,468,469,470,471,472,473,475,476,477,479,480,481,482,483,484,485,486,487,488,489,490,491,492,493,494,495,496,497,500,501,502,503,504,505,506,507,508,509,510,511,512,513,514,515,516,517,518,519,520,521,522,523,524,525,526,527,528,530,531,532,533,534,535,536,537,538,539,540,542,543,544,545,547,549,550,552,553,554,555,556,557,558,559,560,561,562,563,564,566,567,568,569,570,571,572,573,574,575,576,577,578,579,580,581,582,583,584,585,586,587,588,589,590,591,592,593,594,595,596,597,599,601,603,604,605,606,607,610,611,612,614,615,616,617,618,620,621,622,623,624,626,627,630,631,632,633,634,636,637,638,640,641,642,643,644,645,646,648,649,651,652,653,654,655,656,657,659,660,661,662,664,665,666,667,668,669,670,671,672,673,675,676,677,678,679,680,682,683,684,685,686,687,688,691,692,693,694,695,696,697,698,699,700,701,702,703,704,705,706,708,709,710,711,712,713,714,715,716,718,720,721,723,724,726,727,728,729,730,731,732,733,734,735,736,737,738,739,740,741,742,743,744,745,746,747,748,749,750,751,752,753,754,755,756,757,758,759,760,761,762,764,765,766,767,768,769,770,771,772,773,774,775,776,777,778,779,780,781,782,783,784,786,787,789,790,791,792,793,794,795,796,797,798,799,800,801,802,803,804,805,806,807,808,809,810,811,812,813,814,815,816,817,818,819,820,821,822,823,825,826,827,828,829,830,832,833,834,835,836,837,838,839,840,841,842,843,844,845,846,847,848,849,850,851,852,853,854,855,856,857,858,859,860,861,862,863,866,868,869,870,871,872,873,874,875,876,877,878,880,881,882,883,884,886,887,888,889,890,892,893,894,895,896,897,898,899,900,901,902,903,904,905,906,907,908,909,910,911,912,913,914,915,916,918,919,920,921,922,923,924,925,926,928,929,930,932,933,934,936,937,938,939,940,941,942,943,944,945,947,948,949,950,951,952,953,954,955,956,957,958,959,960,962,963,964,965,966,967,968,969,970,971,972,973,974,975,976,977,978,979,980,981,982,983,984,985,987,988,989,990,991,992,993,994,995,996,997,998,999,1000,1001,1002,1003,1004,1005,1006,1007,1009,1010,1011,1012,1014,1015,1016,1017,1018,1019,1020,1021,1022,1023,1024,1025,1026,1027,1028,1029,1030,1031,1032,1033,1034,1035,1036,1037,1038,1039,1040,1042,1043,1044,1045,1046,1047,1048,1049,1050,1051,1052,1053,1054,1055,1056,1057,1058,1059,1060,1061,1062,1063,1064,1065,1066,1067,1068,1069,1070,1071,1072,1073,1074,1075,1076,1077,1078,1079,1081,1083,1084,1085,1086,1087,1088,1089,1091,1092,1093,1094,1095,1097,1098,1099,1100,1101,1104,1105,1106,1107,1108,1109,1110,1111,1112,1113,1114,1115,1116,1117,1119,1120,1121,1122,1123,1124,1125,1126,1127,1128,1129,1130,1131,1132,1133,1134,1135,1136,1137,1138,1139,1140,1141,1142,1143,1144,1145,1146,1147,1148,1149,1150,1151,1152,1153,1154,1155,1156,1157,1158,1159,1160,1161,1162,1163,1164,1166,1167,1168,1169,1170,1171,1172,1173,1175,1176,1177,1178,1179,1180,1181,1182,1183,1184,1185,1186,1187,1188,1189,1190,1191,1192,1193,1194,1195,1196,1197,1198,1199,1200,1201,1202,1207,1208,1210,1211,1212,1213,1214,1215,1216,1217,1219,1220,1221,1222,1224,1225,1226,1227,1228,1229,1230,1231,1232,1233,1234,1235,1236,1237,1238,1239,1240,1241,1242,1244,1245,1246,1247,1248,1249,1250,1251,1252,1253,1254,1255,1256,1257,1258,1259,1260,1261,1262,1263,1264,1265,1266,1267,1268,1269,1270,1271,1272,1273,1274,1275,1276,1277,1278,1279,1281,1282,1283,1284,1285,1286,1287,1288,1289) have mixed types. Specify dtype option on import or set low_memory=False.\n",
            "  df = pd.read_csv(\"neighbor_matrix.csv\")\n"
          ]
        }
      ]
    },
    {
      "cell_type": "code",
      "source": [],
      "metadata": {
        "id": "0zKcUCgTKEB3"
      },
      "execution_count": null,
      "outputs": []
    },
    {
      "cell_type": "code",
      "source": [
        "import pandas as pd\n",
        "df = pd.read_csv('neighbor_matrix2.csv')"
      ],
      "metadata": {
        "colab": {
          "base_uri": "https://localhost:8080/"
        },
        "id": "-Mew6p75E8bl",
        "outputId": "1407e6b0-4670-493a-b6f4-a0e11ba83a57"
      },
      "execution_count": null,
      "outputs": [
        {
          "output_type": "stream",
          "name": "stderr",
          "text": [
            "<ipython-input-153-581ca3d873ba>:2: DtypeWarning: Columns (0,3,4,5,6,7,8,9,11,12,13,14,15,16,18,19,20,21,22,23,24,25,26,27,28,29,30,31,32,33,34,35,36,37,38,39,40,41,42,43,44,45,46,47,48,49,50,51,52,53,54,55,56,57,58,59,60,61,62,63,64,65,66,67,68,70,71,72,73,74,75,76,77,78,79,80,81,82,83,85,86,87,88,89,90,91,93,94,96,97,98,99,100,101,102,103,104,105,106,107,108,109,110,111,112,114,115,116,117,118,121,122,123,124,125,126,127,128,130,131,132,133,134,135,136,137,138,139,140,141,142,143,144,145,146,147,148,149,150,151,152,153,154,155,156,157,158,160,161,162,163,164,165,166,167,168,169,170,171,172,173,174,175,176,178,179,180,181,182,183,184,185,186,187,188,189,190,191,192,193,194,195,196,197,198,199,200,201,202,204,205,206,207,208,209,211,212,213,214,215,216,217,218,219,220,221,222,223,225,226,227,228,229,231,232,233,234,235,236,237,238,239,240,241,242,244,245,246,248,249,250,251,252,253,254,255,256,257,258,259,260,262,263,264,265,266,267,268,270,271,272,273,274,275,276,277,278,279,280,281,282,283,284,285,286,287,288,289,290,291,292,293,294,295,296,298,300,301,302,303,304,305,306,307,308,309,310,311,312,313,314,315,316,317,318,319,320,321,322,323,324,325,326,327,328,329,330,331,332,333,334,335,336,337,338,339,340,341,342,344,345,346,347,348,349,350,351,352,353,354,356,357,358,359,360,361,362,363,364,365,366,367,368,369,370,371,372,373,374,375,376,377,378,379,380,381,383,384,385,386,387,388,389,390,391,392,393,395,396,397,399,400,401,402,403,404,405,406,407,408,409,410,411,412,413,414,415,416,417,418,419,421,422,423,424,425,426,427,428,429,430,431,433,434,435,436,437,438,439,440,441,442,443,444,445,446,447,448,449,450,451,452,453,454,455,456,457,458,459,460,462,463,464,465,466,467,468,469,470,471,472,473,475,476,477,479,480,481,482,483,484,485,486,487,488,489,490,491,492,493,494,495,496,497,500,501,502,503,504,505,506,507,508,509,510,511,512,513,514,515,516,517,518,519,520,521,522,523,524,525,526,527,528,530,531,532,533,534,535,536,537,538,539,540,542,543,544,545,547,549,550,552,553,554,555,556,557,558,559,560,561,562,563,564,566,567,568,569,570,571,572,573,574,575,576,577,578,579,580,581,582,583,584,585,586,587,588,589,590,591,592,593,594,595,596,597,599,601,603,604,605,606,607,610,611,612,614,615,616,617,618,620,621,622,623,624,626,627,630,631,632,633,634,636,637,638,640,641,642,643,644,645,646,648,649,651,652,653,654,655,656,657,659,660,661,662,664,665,666,667,668,669,670,671,672,673,675,676,677,678,679,680,682,683,684,685,686,687,688,691,692,693,694,695,696,697,698,699,700,701,702,703,704,705,706,708,709,710,711,712,713,714,715,716,718,720,721,723,724,726,727,728,729,730,731,732,733,734,735,736,737,738,739,740,741,742,743,744,745,746,747,748,749,750,751,752,753,754,755,756,757,758,759,760,761,762,764,765,766,767,768,769,770,771,772,773,774,775,776,777,778,779,780,781,782,783,784,786,787,789,790,791,792,793,794,795,796,797,798,799,800,801,802,803,804,805,806,807,808,809,810,811,812,813,814,815,816,817,818,819,820,821,822,823,825,826,827,828,829,830,832,833,834,835,836,837,838,839,840,841,842,843,844,845,846,847,848,849,850,851,852,853,854,855,856,857,858,859,860,861,862,863,866,868,869,870,871,872,873,874,875,876,877,878,880,881,882,883,884,886,887,888,889,890,892,893,894,895,896,897,898,899,900,901,902,903,904,905,906,907,908,909,910,911,912,913,914,915,916,918,919,920,921,922,923,924,925,926,928,929,930,932,933,934,936,937,938,939,940,941,942,943,944,945,947,948,949,950,951,952,953,954,955,956,957,958,959,960,962,963,964,965,966,967,968,969,970,971,972,973,974,975,976,977,978,979,980,981,982,983,984,985,987,988,989,990,991,992,993,994,995,996,997,998,999,1000,1001,1002,1003,1004,1005,1006,1007,1009,1010,1011,1012,1014,1015,1016,1017,1018,1019,1020,1021,1022,1023,1024,1025,1026,1027,1028,1029,1030,1031,1032,1033,1034,1035,1036,1037,1038,1039,1040,1042,1043,1044,1045,1046,1047,1048,1049,1050,1051,1052,1053,1054,1055,1056,1057,1058,1059,1060,1061,1062,1063,1064,1065,1066,1067,1068,1069,1070,1071,1072,1073,1074,1075,1076,1077,1078,1079,1081,1083,1084,1085,1086,1087,1088,1089,1091,1092,1093,1094,1095,1097,1098,1099,1100,1101,1104,1105,1106,1107,1108,1109,1110,1111,1112,1113,1114,1115,1116,1117,1119,1120,1121,1122,1123,1124,1125,1126,1127,1128,1129,1130,1131,1132,1133,1134,1135,1136,1137,1138,1139,1140,1141,1142,1143,1144,1145,1146,1147,1148,1149,1150,1151,1152,1153,1154,1155,1156,1157,1158,1159,1160,1161,1162,1163,1164,1166,1167,1168,1169,1170,1171,1172,1173,1175,1176,1177,1178,1179,1180,1181,1182,1183,1184,1185,1186,1187,1188,1189,1190,1191,1192,1193,1194,1195,1196,1197,1198,1199,1200,1201,1202,1207,1208,1210,1211,1212,1213,1214,1215,1216,1217,1219,1220,1221,1222,1224,1225,1226,1227,1228,1229,1230,1231,1232,1233,1234,1235,1236,1237,1238,1239,1240,1241,1242,1244,1245,1246,1247,1248,1249,1250,1251,1252,1253,1254,1255,1256,1257,1258,1259,1260,1261,1262,1263,1264,1265,1266,1267,1268,1269,1270,1271,1272,1273,1274,1275,1276,1277,1278,1279,1281,1282,1283,1284,1285,1286,1287,1288,1289) have mixed types. Specify dtype option on import or set low_memory=False.\n",
            "  df = pd.read_csv('neighbor_matrix2.csv')\n"
          ]
        }
      ]
    },
    {
      "cell_type": "code",
      "source": [
        "df.iloc[0,2]"
      ],
      "metadata": {
        "colab": {
          "base_uri": "https://localhost:8080/",
          "height": 35
        },
        "id": "NRDgSiL1FBUY",
        "outputId": "88196390-01cd-4143-e83a-5178201bc068"
      },
      "execution_count": null,
      "outputs": [
        {
          "output_type": "execute_result",
          "data": {
            "text/plain": [
              "'(-118.4397642, 34.0700517) (-118.4397158, 34.0700211)'"
            ],
            "application/vnd.google.colaboratory.intrinsic+json": {
              "type": "string"
            }
          },
          "metadata": {},
          "execution_count": 154
        }
      ]
    },
    {
      "cell_type": "code",
      "source": [
        "x = [(1, 2), (3, 4)]"
      ],
      "metadata": {
        "id": "GVKPtN1ZFTng"
      },
      "execution_count": null,
      "outputs": []
    },
    {
      "cell_type": "code",
      "source": [
        "' '.join(str(element) for element in x)"
      ],
      "metadata": {
        "colab": {
          "base_uri": "https://localhost:8080/",
          "height": 35
        },
        "id": "m3JibhLaF8bf",
        "outputId": "665be835-908b-4e81-8998-a3e568c91e1f"
      },
      "execution_count": null,
      "outputs": [
        {
          "output_type": "execute_result",
          "data": {
            "text/plain": [
              "'(1, 2) (3, 4)'"
            ],
            "application/vnd.google.colaboratory.intrinsic+json": {
              "type": "string"
            }
          },
          "metadata": {},
          "execution_count": 12
        }
      ]
    },
    {
      "cell_type": "code",
      "source": [
        "api_url = \"https://api.open-elevation.com/api/v1/lookup\"\n",
        "def get_elevation(lat, lon):\n",
        "    response = requests.get(api_url, params={\"locations\": f\"{lat},{lon}\"})\n",
        "    if response.status_code == 200:\n",
        "        try:\n",
        "            return response.json()[\"results\"][0][\"elevation\"]\n",
        "        except (KeyError, IndexError):\n",
        "            return None\n",
        "    return None\n",
        "get_elevation(34.0700211, -118.4397158)"
      ],
      "metadata": {
        "colab": {
          "base_uri": "https://localhost:8080/"
        },
        "id": "Pohs8GoAMLn8",
        "outputId": "603ef27c-1c49-4fc1-a90e-6800a738b5a9"
      },
      "execution_count": null,
      "outputs": [
        {
          "output_type": "execute_result",
          "data": {
            "text/plain": [
              "143.0"
            ]
          },
          "metadata": {},
          "execution_count": 155
        }
      ]
    },
    {
      "cell_type": "code",
      "source": [
        "def get_elevation(lat, lon):\n",
        "    response = requests.get(api_url, params={\"locations\": f\"{lat},{lon}\"})\n",
        "    if response.status_code == 200:\n",
        "        try:\n",
        "            return response.json()[\"results\"][0][\"elevation\"]\n",
        "        except (KeyError, IndexError):\n",
        "            return None\n",
        "    return None\n",
        "\n",
        "elevations = [['' for j in range(len(paths_matrix))] for i in range(len(paths_matrix))]\n",
        "i = 0\n",
        "for j in range(len(elevations)):\n",
        "  arr = []\n",
        "  coords = extract_coordinates(df.iloc[i, j])\n",
        "  for coord in coords:\n",
        "    lon, lat = map(float, coord.strip(\"()\").split(\", \"))\n",
        "    arr.append(get_elevation(lat, lon)) #neighbors coordinates is reversed, so reversing now\n",
        "    time.sleep(0.01)\n",
        "    elevations[i][j] = ' '.join(str(element) for element in arr)"
      ],
      "metadata": {
        "id": "aC7_UM1HKf8Q"
      },
      "execution_count": null,
      "outputs": []
    },
    {
      "cell_type": "code",
      "source": [
        "#TESTING\n",
        "import requests\n",
        "import time\n",
        "import pandas as pd\n",
        "import re\n",
        "\n",
        "count = 0\n",
        "\n",
        "df = pd.read_csv(\"neighbor_matrix2.csv\")\n",
        "\n",
        "\n",
        "def extract_coordinates(text):\n",
        "    if isinstance(text, str):\n",
        "        return re.findall(r'\\(-?\\d+\\.\\d+, -?\\d+\\.\\d+\\)', text)\n",
        "    return []\n",
        "\n",
        "api_url = \"https://api.opentopodata.org/v1/test-dataset\"\n",
        "\n",
        "# Function to get elevation\n",
        "def get_elevation(lat, lon):\n",
        "  response = requests.get(api_url, params={\"locations\": f\"{lat},{lon}\"})\n",
        "  # Check if the request was successful\n",
        "  if response.status_code == 200:\n",
        "      return response.json()['results'][0]['elevation']\n",
        "  else:\n",
        "      return None\n",
        "  return None\n",
        "\n",
        "elevations = [['' for j in range(len(paths_matrix))] for i in range(len(paths_matrix))]\n",
        "for i in range(len(elevations)):\n",
        "  for j in range(len(elevations)):\n",
        "    arr = []\n",
        "    coords = extract_coordinates(df.iloc[i, j])\n",
        "    for coord in coords:\n",
        "      lon, lat = map(float, coord.strip(\"()\").split(\", \"))\n",
        "      arr.append(get_elevation(lat, lon)) #neighbors coordinates is reversed, so reversing now\n",
        "      count += 1\n",
        "      time.sleep(0.01)\n",
        "      elevations[i][j] = ' '.join(str(element) for element in arr)\n",
        "      if count % 50 == 0:\n",
        "        print(count)\n",
        "\n",
        "\n"
      ],
      "metadata": {
        "id": "eRUqI7NNEBzq",
        "colab": {
          "base_uri": "https://localhost:8080/"
        },
        "outputId": "65d6be06-05ad-4626-ff73-cc6692acdd99"
      },
      "execution_count": null,
      "outputs": [
        {
          "output_type": "stream",
          "name": "stderr",
          "text": [
            "<ipython-input-254-88d6beeceb34>:9: DtypeWarning: Columns (0,3,4,5,6,7,8,9,11,12,13,14,15,16,18,19,20,21,22,23,24,25,26,27,28,29,30,31,32,33,34,35,36,37,38,39,40,41,42,43,44,45,46,47,48,49,50,51,52,53,54,55,56,57,58,59,60,61,62,63,64,65,66,67,68,70,71,72,73,74,75,76,77,78,79,80,81,82,83,85,86,87,88,89,90,91,93,94,96,97,98,99,100,101,102,103,104,105,106,107,108,109,110,111,112,114,115,116,117,118,121,122,123,124,125,126,127,128,130,131,132,133,134,135,136,137,138,139,140,141,142,143,144,145,146,147,148,149,150,151,152,153,154,155,156,157,158,160,161,162,163,164,165,166,167,168,169,170,171,172,173,174,175,176,178,179,180,181,182,183,184,185,186,187,188,189,190,191,192,193,194,195,196,197,198,199,200,201,202,204,205,206,207,208,209,211,212,213,214,215,216,217,218,219,220,221,222,223,225,226,227,228,229,231,232,233,234,235,236,237,238,239,240,241,242,244,245,246,248,249,250,251,252,253,254,255,256,257,258,259,260,262,263,264,265,266,267,268,270,271,272,273,274,275,276,277,278,279,280,281,282,283,284,285,286,287,288,289,290,291,292,293,294,295,296,298,300,301,302,303,304,305,306,307,308,309,310,311,312,313,314,315,316,317,318,319,320,321,322,323,324,325,326,327,328,329,330,331,332,333,334,335,336,337,338,339,340,341,342,344,345,346,347,348,349,350,351,352,353,354,356,357,358,359,360,361,362,363,364,365,366,367,368,369,370,371,372,373,374,375,376,377,378,379,380,381,383,384,385,386,387,388,389,390,391,392,393,395,396,397,399,400,401,402,403,404,405,406,407,408,409,410,411,412,413,414,415,416,417,418,419,421,422,423,424,425,426,427,428,429,430,431,433,434,435,436,437,438,439,440,441,442,443,444,445,446,447,448,449,450,451,452,453,454,455,456,457,458,459,460,462,463,464,465,466,467,468,469,470,471,472,473,475,476,477,479,480,481,482,483,484,485,486,487,488,489,490,491,492,493,494,495,496,497,500,501,502,503,504,505,506,507,508,509,510,511,512,513,514,515,516,517,518,519,520,521,522,523,524,525,526,527,528,530,531,532,533,534,535,536,537,538,539,540,542,543,544,545,547,549,550,552,553,554,555,556,557,558,559,560,561,562,563,564,566,567,568,569,570,571,572,573,574,575,576,577,578,579,580,581,582,583,584,585,586,587,588,589,590,591,592,593,594,595,596,597,599,601,603,604,605,606,607,610,611,612,614,615,616,617,618,620,621,622,623,624,626,627,630,631,632,633,634,636,637,638,640,641,642,643,644,645,646,648,649,651,652,653,654,655,656,657,659,660,661,662,664,665,666,667,668,669,670,671,672,673,675,676,677,678,679,680,682,683,684,685,686,687,688,691,692,693,694,695,696,697,698,699,700,701,702,703,704,705,706,708,709,710,711,712,713,714,715,716,718,720,721,723,724,726,727,728,729,730,731,732,733,734,735,736,737,738,739,740,741,742,743,744,745,746,747,748,749,750,751,752,753,754,755,756,757,758,759,760,761,762,764,765,766,767,768,769,770,771,772,773,774,775,776,777,778,779,780,781,782,783,784,786,787,789,790,791,792,793,794,795,796,797,798,799,800,801,802,803,804,805,806,807,808,809,810,811,812,813,814,815,816,817,818,819,820,821,822,823,825,826,827,828,829,830,832,833,834,835,836,837,838,839,840,841,842,843,844,845,846,847,848,849,850,851,852,853,854,855,856,857,858,859,860,861,862,863,866,868,869,870,871,872,873,874,875,876,877,878,880,881,882,883,884,886,887,888,889,890,892,893,894,895,896,897,898,899,900,901,902,903,904,905,906,907,908,909,910,911,912,913,914,915,916,918,919,920,921,922,923,924,925,926,928,929,930,932,933,934,936,937,938,939,940,941,942,943,944,945,947,948,949,950,951,952,953,954,955,956,957,958,959,960,962,963,964,965,966,967,968,969,970,971,972,973,974,975,976,977,978,979,980,981,982,983,984,985,987,988,989,990,991,992,993,994,995,996,997,998,999,1000,1001,1002,1003,1004,1005,1006,1007,1009,1010,1011,1012,1014,1015,1016,1017,1018,1019,1020,1021,1022,1023,1024,1025,1026,1027,1028,1029,1030,1031,1032,1033,1034,1035,1036,1037,1038,1039,1040,1042,1043,1044,1045,1046,1047,1048,1049,1050,1051,1052,1053,1054,1055,1056,1057,1058,1059,1060,1061,1062,1063,1064,1065,1066,1067,1068,1069,1070,1071,1072,1073,1074,1075,1076,1077,1078,1079,1081,1083,1084,1085,1086,1087,1088,1089,1091,1092,1093,1094,1095,1097,1098,1099,1100,1101,1104,1105,1106,1107,1108,1109,1110,1111,1112,1113,1114,1115,1116,1117,1119,1120,1121,1122,1123,1124,1125,1126,1127,1128,1129,1130,1131,1132,1133,1134,1135,1136,1137,1138,1139,1140,1141,1142,1143,1144,1145,1146,1147,1148,1149,1150,1151,1152,1153,1154,1155,1156,1157,1158,1159,1160,1161,1162,1163,1164,1166,1167,1168,1169,1170,1171,1172,1173,1175,1176,1177,1178,1179,1180,1181,1182,1183,1184,1185,1186,1187,1188,1189,1190,1191,1192,1193,1194,1195,1196,1197,1198,1199,1200,1201,1202,1207,1208,1210,1211,1212,1213,1214,1215,1216,1217,1219,1220,1221,1222,1224,1225,1226,1227,1228,1229,1230,1231,1232,1233,1234,1235,1236,1237,1238,1239,1240,1241,1242,1244,1245,1246,1247,1248,1249,1250,1251,1252,1253,1254,1255,1256,1257,1258,1259,1260,1261,1262,1263,1264,1265,1266,1267,1268,1269,1270,1271,1272,1273,1274,1275,1276,1277,1278,1279,1281,1282,1283,1284,1285,1286,1287,1288,1289) have mixed types. Specify dtype option on import or set low_memory=False.\n",
            "  df = pd.read_csv(\"neighbor_matrix2.csv\")\n"
          ]
        },
        {
          "output_type": "stream",
          "name": "stdout",
          "text": [
            "50\n",
            "100\n",
            "150\n",
            "200\n",
            "250\n",
            "300\n",
            "350\n",
            "400\n",
            "450\n",
            "500\n",
            "550\n",
            "600\n",
            "650\n",
            "700\n",
            "750\n",
            "800\n",
            "850\n",
            "900\n",
            "950\n",
            "1000\n",
            "1050\n",
            "1100\n",
            "1150\n",
            "1200\n",
            "1250\n",
            "1300\n",
            "1350\n",
            "1400\n",
            "1450\n",
            "1500\n",
            "1550\n",
            "1600\n",
            "1650\n",
            "1700\n",
            "1750\n",
            "1800\n",
            "1850\n",
            "1900\n",
            "1950\n",
            "2000\n",
            "2050\n",
            "2100\n",
            "2150\n",
            "2200\n",
            "2250\n",
            "2300\n",
            "2350\n",
            "2400\n",
            "2450\n",
            "2500\n",
            "2550\n",
            "2600\n",
            "2650\n",
            "2700\n",
            "2750\n",
            "2800\n",
            "2850\n",
            "2900\n",
            "2950\n",
            "3000\n",
            "3050\n",
            "3100\n",
            "3150\n",
            "3200\n",
            "3250\n",
            "3300\n",
            "3350\n",
            "3400\n",
            "3450\n",
            "3500\n",
            "3550\n",
            "3600\n",
            "3650\n",
            "3700\n",
            "3750\n",
            "3800\n",
            "3850\n",
            "3900\n",
            "3950\n",
            "4000\n",
            "4050\n",
            "4100\n",
            "4150\n",
            "4200\n",
            "4250\n",
            "4300\n",
            "4350\n",
            "4400\n",
            "4450\n",
            "4500\n",
            "4550\n",
            "4600\n",
            "4650\n",
            "4700\n",
            "4750\n",
            "4800\n",
            "4850\n",
            "4900\n",
            "4950\n",
            "5000\n",
            "5050\n",
            "5100\n",
            "5150\n",
            "5200\n",
            "5250\n",
            "5300\n",
            "5350\n",
            "5400\n",
            "5450\n",
            "5500\n",
            "5550\n",
            "5600\n",
            "5650\n",
            "5700\n",
            "5750\n",
            "5800\n",
            "5850\n",
            "5900\n",
            "5950\n",
            "6000\n",
            "6050\n",
            "6100\n",
            "6150\n",
            "6200\n",
            "6250\n",
            "6300\n",
            "6350\n",
            "6400\n",
            "6450\n",
            "6500\n",
            "6550\n",
            "6600\n",
            "6650\n",
            "6700\n",
            "6750\n",
            "6800\n",
            "6850\n",
            "6900\n",
            "6950\n",
            "7000\n",
            "7050\n",
            "7100\n",
            "7150\n",
            "7200\n",
            "7250\n",
            "7300\n",
            "7350\n",
            "7400\n",
            "7450\n",
            "7500\n",
            "7550\n",
            "7600\n",
            "7650\n",
            "7700\n",
            "7750\n",
            "7800\n",
            "7850\n",
            "7900\n",
            "7950\n",
            "8000\n",
            "8050\n",
            "8100\n",
            "8150\n",
            "8200\n",
            "8250\n",
            "8300\n",
            "8350\n",
            "8400\n",
            "8450\n",
            "8500\n",
            "8550\n",
            "8600\n",
            "8650\n",
            "8700\n",
            "8750\n",
            "8800\n",
            "8850\n",
            "8900\n",
            "8950\n",
            "9000\n",
            "9050\n",
            "9100\n",
            "9150\n",
            "9200\n",
            "9250\n",
            "9300\n",
            "9350\n",
            "9400\n",
            "9450\n",
            "9500\n",
            "9550\n",
            "9600\n",
            "9650\n",
            "9700\n",
            "9750\n",
            "9800\n",
            "9850\n",
            "9900\n",
            "9950\n",
            "10000\n",
            "10050\n",
            "10100\n",
            "10150\n",
            "10200\n",
            "10250\n",
            "10300\n",
            "10350\n",
            "10400\n",
            "10450\n",
            "10500\n",
            "10550\n",
            "10600\n",
            "10650\n",
            "10700\n",
            "10750\n",
            "10800\n",
            "10850\n",
            "10900\n",
            "10950\n",
            "11000\n",
            "11050\n",
            "11100\n",
            "11150\n",
            "11200\n",
            "11250\n",
            "11300\n",
            "11350\n",
            "11400\n",
            "11450\n",
            "11500\n",
            "11550\n",
            "11600\n",
            "11650\n",
            "11700\n",
            "11750\n",
            "11800\n"
          ]
        }
      ]
    },
    {
      "cell_type": "code",
      "source": [
        "steep_edges = []\n",
        "for i in range(len(coordinates) - 1):\n",
        "    lat1, lon1 = coordinates[i]\n",
        "    lat2, lon2 = coordinates[i + 1]\n",
        "    elev_diff = abs(elevations[i + 1] - elevations[i]) if elevations[i] and elevations[i + 1] else None\n",
        "\n",
        "    if elev_diff is not None and elev_diff > 0.833:\n",
        "        steep_edges.append(((lat1, lon1), (lat2, lon2), elev_diff))"
      ],
      "metadata": {
        "id": "3c3Cx0nMnsIQ"
      },
      "execution_count": null,
      "outputs": []
    },
    {
      "cell_type": "code",
      "source": [
        "#pd.DataFrame(elevations).to_csv('elevations.csv', index = False)"
      ],
      "metadata": {
        "id": "qt2iUJploCDG"
      },
      "execution_count": null,
      "outputs": []
    },
    {
      "cell_type": "code",
      "source": [
        "df.iloc[0,2]"
      ],
      "metadata": {
        "colab": {
          "base_uri": "https://localhost:8080/",
          "height": 35
        },
        "id": "Ok2CUw4cE-w6",
        "outputId": "869e7cf3-c2f5-44b0-f554-cc3c8d46d0df"
      },
      "execution_count": null,
      "outputs": [
        {
          "output_type": "execute_result",
          "data": {
            "text/plain": [
              "'(-118.4397642, 34.0700517) (-118.4397158, 34.0700211)'"
            ],
            "application/vnd.google.colaboratory.intrinsic+json": {
              "type": "string"
            }
          },
          "metadata": {},
          "execution_count": 261
        }
      ]
    },
    {
      "cell_type": "code",
      "source": [
        "e2 = pd.read_csv('elevations.csv')\n",
        "e2.head()"
      ],
      "metadata": {
        "colab": {
          "base_uri": "https://localhost:8080/",
          "height": 290
        },
        "id": "uUbVrYK0ExDI",
        "outputId": "ed46d0f6-f50f-4bc8-91b6-f0961c5b8e29"
      },
      "execution_count": null,
      "outputs": [
        {
          "output_type": "stream",
          "name": "stderr",
          "text": [
            "<ipython-input-260-c3538408b6c9>:1: DtypeWarning: Columns (0,3,4,5,6,7,8,9,11,12,13,14,15,16,18,19,20,21,22,23,24,25,26,27,28,29,30,31,32,33,34,35,36,37,38,39,40,41,42,43,44,45,46,47,48,49,50,51,52,53,54,55,56,57,58,59,60,61,62,63,64,65,66,67,68,70,71,72,73,74,75,76,77,78,79,80,81,82,83,85,86,87,88,89,90,91,93,94,96,97,98,99,100,101,102,103,104,105,106,107,108,109,110,111,112,114,115,116,117,118,121,122,123,124,125,126,127,128,130,131,132,133,134,135,136,137,138,139,140,141,142,143,144,145,146,147,148,149,150,151,152,153,154,155,156,157,158,160,161,162,163,164,165,166,167,168,169,170,171,172,173,174,175,176,178,179,180,181,182,183,184,185,186,187,188,189,190,191,192,193,194,195,196,197,198,199,200,201,202,204,205,206,207,208,209,211,212,213,214,215,216,217,218,219,220,221,222,223,225,226,227,228,229,231,232,233,234,235,236,237,238,239,240,241,242,244,245,246,248,249,250,251,252,253,254,255,256,257,258,259,260,262,263,264,265,266,267,268,270,271,272,273,274,275,276,277,278,279,280,281,282,283,284,285,286,287,288,289,290,291,292,293,294,295,296,298,300,301,302,303,304,305,306,307,308,309,310,311,312,313,314,315,316,317,318,319,320,321,322,323,324,325,326,327,328,329,330,331,332,333,334,335,336,337,338,339,340,341,342,344,345,346,347,348,349,350,351,352,353,354,356,357,358,359,360,361,362,363,364,365,366,367,368,369,370,371,372,373,374,375,376,377,378,379,380,381,383,384,385,386,387,388,389,390,391,392,393,395,396,397,399,400,401,402,403,404,405,406,407,408,409,410,411,412,413,414,415,416,417,418,419,421,422,423,424,425,426,427,428,429,430,431,433,434,435,436,437,438,439,440,441,442,443,444,445,446,447,448,449,450,451,452,453,454,455,456,457,458,459,460,462,463,464,465,466,467,468,469,470,471,472,473,475,476,477,479,480,481,482,483,484,485,486,487,488,489,490,491,492,493,494,495,496,497,500,501,502,503,504,505,506,507,508,509,510,511,512,513,514,515,516,517,518,519,520,521,522,523,524,525,526,527,528,530,531,532,533,534,535,536,537,538,539,540,542,543,544,545,547,549,550,552,553,554,555,556,557,558,559,560,561,562,563,564,566,567,568,569,570,571,572,573,574,575,576,577,578,579,580,581,582,583,584,585,586,587,588,589,590,591,592,593,594,595,596,597,599,601,603,604,605,606,607,610,611,612,614,615,616,617,618,620,621,622,623,624,626,627,630,631,632,633,634,636,637,638,640,641,642,643,644,645,646,648,649,651,652,653,654,655,656,657,659,660,661,662,664,665,666,667,668,669,670,671,672,673,675,676,677,678,679,680,682,683,684,685,686,687,688,691,692,693,694,695,696,697,698,699,700,701,702,703,704,705,706,708,709,710,711,712,713,714,715,716,718,720,721,723,724,726,727,728,729,730,731,732,733,734,735,736,737,738,739,740,741,742,743,744,745,746,747,748,749,750,751,752,753,754,755,756,757,758,759,760,761,762,764,765,766,767,768,769,770,771,772,773,774,775,776,777,778,779,780,781,782,783,784,786,787,789,790,791,792,793,794,795,796,797,798,799,800,801,802,803,804,805,806,807,808,809,810,811,812,813,814,815,816,817,818,819,820,821,822,823,825,826,827,828,829,830,832,833,834,835,836,837,838,839,840,841,842,843,844,845,846,847,848,849,850,851,852,853,854,855,856,857,858,859,860,861,862,863,866,868,869,870,871,872,873,874,875,876,877,878,880,881,882,883,884,886,887,888,889,890,892,893,894,895,896,897,898,899,900,901,902,903,904,905,906,907,908,909,910,911,912,913,914,915,916,918,919,920,921,922,923,924,925,926,928,929,930,932,933,934,936,937,938,939,940,941,942,943,944,945,947,948,949,950,951,952,953,954,955,956,957,958,959,960,962,963,964,965,966,967,968,969,970,971,972,973,974,975,976,977,978,979,980,981,982,983,984,985,987,988,989,990,991,992,993,994,995,996,997,998,999,1000,1001,1002,1003,1004,1005,1006,1007,1009,1010,1011,1012,1014,1015,1016,1017,1018,1019,1020,1021,1022,1023,1024,1025,1026,1027,1028,1029,1030,1031,1032,1033,1034,1035,1036,1037,1038,1039,1040,1042,1043,1044,1045,1046,1047,1048,1049,1050,1051,1052,1053,1054,1055,1056,1057,1058,1059,1060,1061,1062,1063,1064,1065,1066,1067,1068,1069,1070,1071,1072,1073,1074,1075,1076,1077,1078,1079,1081,1083,1084,1085,1086,1087,1088,1089,1091,1092,1093,1094,1095,1097,1098,1099,1100,1101,1104,1105,1106,1107,1108,1109,1110,1111,1112,1113,1114,1115,1116,1117,1119,1120,1121,1122,1123,1124,1125,1126,1127,1128,1129,1130,1131,1132,1133,1134,1135,1136,1137,1138,1139,1140,1141,1142,1143,1144,1145,1146,1147,1148,1149,1150,1151,1152,1153,1154,1155,1156,1157,1158,1159,1160,1161,1162,1163,1164,1166,1167,1168,1169,1170,1171,1172,1173,1175,1176,1177,1178,1179,1180,1181,1182,1183,1184,1185,1186,1187,1188,1189,1190,1191,1192,1193,1194,1195,1196,1197,1198,1199,1200,1201,1202,1207,1208,1210,1211,1212,1213,1214,1215,1216,1217,1219,1220,1221,1222,1224,1225,1226,1227,1228,1229,1230,1231,1232,1233,1234,1235,1236,1237,1238,1239,1240,1241,1242,1244,1245,1246,1247,1248,1249,1250,1251,1252,1253,1254,1255,1256,1257,1258,1259,1260,1261,1262,1263,1264,1265,1266,1267,1268,1269,1270,1271,1272,1273,1274,1275,1276,1277,1278,1279,1281,1282,1283,1284,1285,1286,1287,1288,1289) have mixed types. Specify dtype option on import or set low_memory=False.\n",
            "  e2 = pd.read_csv('elevations.csv')\n"
          ]
        },
        {
          "output_type": "execute_result",
          "data": {
            "text/plain": [
              "             0                        1                        2    3    4  \\\n",
              "0          NaN                      NaN              143.0 143.0  NaN  NaN   \n",
              "1          NaN                      NaN  131.0 131.0 131.0 143.0  NaN  NaN   \n",
              "2  143.0 143.0  143.0 131.0 131.0 131.0                      NaN  NaN  NaN   \n",
              "3          NaN                      NaN                      NaN  NaN  NaN   \n",
              "4          NaN                      NaN                      NaN  NaN  NaN   \n",
              "\n",
              "     5    6    7    8            9  ... 1280 1281 1282 1283 1284 1285 1286  \\\n",
              "0  NaN  NaN  NaN  NaN          NaN  ...  NaN  NaN  NaN  NaN  NaN  NaN  NaN   \n",
              "1  NaN  NaN  NaN  NaN          NaN  ...  NaN  NaN  NaN  NaN  NaN  NaN  NaN   \n",
              "2  NaN  NaN  NaN  NaN          NaN  ...  NaN  NaN  NaN  NaN  NaN  NaN  NaN   \n",
              "3  NaN  NaN  NaN  NaN  174.0 174.0  ...  NaN  NaN  NaN  NaN  NaN  NaN  NaN   \n",
              "4  NaN  NaN  NaN  NaN          NaN  ...  NaN  NaN  NaN  NaN  NaN  NaN  NaN   \n",
              "\n",
              "  1287 1288 1289  \n",
              "0  NaN  NaN  NaN  \n",
              "1  NaN  NaN  NaN  \n",
              "2  NaN  NaN  NaN  \n",
              "3  NaN  NaN  NaN  \n",
              "4  NaN  NaN  NaN  \n",
              "\n",
              "[5 rows x 1290 columns]"
            ],
            "text/html": [
              "\n",
              "  <div id=\"df-3702b8f1-932f-49fc-bacb-3db530cab8ed\" class=\"colab-df-container\">\n",
              "    <div>\n",
              "<style scoped>\n",
              "    .dataframe tbody tr th:only-of-type {\n",
              "        vertical-align: middle;\n",
              "    }\n",
              "\n",
              "    .dataframe tbody tr th {\n",
              "        vertical-align: top;\n",
              "    }\n",
              "\n",
              "    .dataframe thead th {\n",
              "        text-align: right;\n",
              "    }\n",
              "</style>\n",
              "<table border=\"1\" class=\"dataframe\">\n",
              "  <thead>\n",
              "    <tr style=\"text-align: right;\">\n",
              "      <th></th>\n",
              "      <th>0</th>\n",
              "      <th>1</th>\n",
              "      <th>2</th>\n",
              "      <th>3</th>\n",
              "      <th>4</th>\n",
              "      <th>5</th>\n",
              "      <th>6</th>\n",
              "      <th>7</th>\n",
              "      <th>8</th>\n",
              "      <th>9</th>\n",
              "      <th>...</th>\n",
              "      <th>1280</th>\n",
              "      <th>1281</th>\n",
              "      <th>1282</th>\n",
              "      <th>1283</th>\n",
              "      <th>1284</th>\n",
              "      <th>1285</th>\n",
              "      <th>1286</th>\n",
              "      <th>1287</th>\n",
              "      <th>1288</th>\n",
              "      <th>1289</th>\n",
              "    </tr>\n",
              "  </thead>\n",
              "  <tbody>\n",
              "    <tr>\n",
              "      <th>0</th>\n",
              "      <td>NaN</td>\n",
              "      <td>NaN</td>\n",
              "      <td>143.0 143.0</td>\n",
              "      <td>NaN</td>\n",
              "      <td>NaN</td>\n",
              "      <td>NaN</td>\n",
              "      <td>NaN</td>\n",
              "      <td>NaN</td>\n",
              "      <td>NaN</td>\n",
              "      <td>NaN</td>\n",
              "      <td>...</td>\n",
              "      <td>NaN</td>\n",
              "      <td>NaN</td>\n",
              "      <td>NaN</td>\n",
              "      <td>NaN</td>\n",
              "      <td>NaN</td>\n",
              "      <td>NaN</td>\n",
              "      <td>NaN</td>\n",
              "      <td>NaN</td>\n",
              "      <td>NaN</td>\n",
              "      <td>NaN</td>\n",
              "    </tr>\n",
              "    <tr>\n",
              "      <th>1</th>\n",
              "      <td>NaN</td>\n",
              "      <td>NaN</td>\n",
              "      <td>131.0 131.0 131.0 143.0</td>\n",
              "      <td>NaN</td>\n",
              "      <td>NaN</td>\n",
              "      <td>NaN</td>\n",
              "      <td>NaN</td>\n",
              "      <td>NaN</td>\n",
              "      <td>NaN</td>\n",
              "      <td>NaN</td>\n",
              "      <td>...</td>\n",
              "      <td>NaN</td>\n",
              "      <td>NaN</td>\n",
              "      <td>NaN</td>\n",
              "      <td>NaN</td>\n",
              "      <td>NaN</td>\n",
              "      <td>NaN</td>\n",
              "      <td>NaN</td>\n",
              "      <td>NaN</td>\n",
              "      <td>NaN</td>\n",
              "      <td>NaN</td>\n",
              "    </tr>\n",
              "    <tr>\n",
              "      <th>2</th>\n",
              "      <td>143.0 143.0</td>\n",
              "      <td>143.0 131.0 131.0 131.0</td>\n",
              "      <td>NaN</td>\n",
              "      <td>NaN</td>\n",
              "      <td>NaN</td>\n",
              "      <td>NaN</td>\n",
              "      <td>NaN</td>\n",
              "      <td>NaN</td>\n",
              "      <td>NaN</td>\n",
              "      <td>NaN</td>\n",
              "      <td>...</td>\n",
              "      <td>NaN</td>\n",
              "      <td>NaN</td>\n",
              "      <td>NaN</td>\n",
              "      <td>NaN</td>\n",
              "      <td>NaN</td>\n",
              "      <td>NaN</td>\n",
              "      <td>NaN</td>\n",
              "      <td>NaN</td>\n",
              "      <td>NaN</td>\n",
              "      <td>NaN</td>\n",
              "    </tr>\n",
              "    <tr>\n",
              "      <th>3</th>\n",
              "      <td>NaN</td>\n",
              "      <td>NaN</td>\n",
              "      <td>NaN</td>\n",
              "      <td>NaN</td>\n",
              "      <td>NaN</td>\n",
              "      <td>NaN</td>\n",
              "      <td>NaN</td>\n",
              "      <td>NaN</td>\n",
              "      <td>NaN</td>\n",
              "      <td>174.0 174.0</td>\n",
              "      <td>...</td>\n",
              "      <td>NaN</td>\n",
              "      <td>NaN</td>\n",
              "      <td>NaN</td>\n",
              "      <td>NaN</td>\n",
              "      <td>NaN</td>\n",
              "      <td>NaN</td>\n",
              "      <td>NaN</td>\n",
              "      <td>NaN</td>\n",
              "      <td>NaN</td>\n",
              "      <td>NaN</td>\n",
              "    </tr>\n",
              "    <tr>\n",
              "      <th>4</th>\n",
              "      <td>NaN</td>\n",
              "      <td>NaN</td>\n",
              "      <td>NaN</td>\n",
              "      <td>NaN</td>\n",
              "      <td>NaN</td>\n",
              "      <td>NaN</td>\n",
              "      <td>NaN</td>\n",
              "      <td>NaN</td>\n",
              "      <td>NaN</td>\n",
              "      <td>NaN</td>\n",
              "      <td>...</td>\n",
              "      <td>NaN</td>\n",
              "      <td>NaN</td>\n",
              "      <td>NaN</td>\n",
              "      <td>NaN</td>\n",
              "      <td>NaN</td>\n",
              "      <td>NaN</td>\n",
              "      <td>NaN</td>\n",
              "      <td>NaN</td>\n",
              "      <td>NaN</td>\n",
              "      <td>NaN</td>\n",
              "    </tr>\n",
              "  </tbody>\n",
              "</table>\n",
              "<p>5 rows × 1290 columns</p>\n",
              "</div>\n",
              "    <div class=\"colab-df-buttons\">\n",
              "\n",
              "  <div class=\"colab-df-container\">\n",
              "    <button class=\"colab-df-convert\" onclick=\"convertToInteractive('df-3702b8f1-932f-49fc-bacb-3db530cab8ed')\"\n",
              "            title=\"Convert this dataframe to an interactive table.\"\n",
              "            style=\"display:none;\">\n",
              "\n",
              "  <svg xmlns=\"http://www.w3.org/2000/svg\" height=\"24px\" viewBox=\"0 -960 960 960\">\n",
              "    <path d=\"M120-120v-720h720v720H120Zm60-500h600v-160H180v160Zm220 220h160v-160H400v160Zm0 220h160v-160H400v160ZM180-400h160v-160H180v160Zm440 0h160v-160H620v160ZM180-180h160v-160H180v160Zm440 0h160v-160H620v160Z\"/>\n",
              "  </svg>\n",
              "    </button>\n",
              "\n",
              "  <style>\n",
              "    .colab-df-container {\n",
              "      display:flex;\n",
              "      gap: 12px;\n",
              "    }\n",
              "\n",
              "    .colab-df-convert {\n",
              "      background-color: #E8F0FE;\n",
              "      border: none;\n",
              "      border-radius: 50%;\n",
              "      cursor: pointer;\n",
              "      display: none;\n",
              "      fill: #1967D2;\n",
              "      height: 32px;\n",
              "      padding: 0 0 0 0;\n",
              "      width: 32px;\n",
              "    }\n",
              "\n",
              "    .colab-df-convert:hover {\n",
              "      background-color: #E2EBFA;\n",
              "      box-shadow: 0px 1px 2px rgba(60, 64, 67, 0.3), 0px 1px 3px 1px rgba(60, 64, 67, 0.15);\n",
              "      fill: #174EA6;\n",
              "    }\n",
              "\n",
              "    .colab-df-buttons div {\n",
              "      margin-bottom: 4px;\n",
              "    }\n",
              "\n",
              "    [theme=dark] .colab-df-convert {\n",
              "      background-color: #3B4455;\n",
              "      fill: #D2E3FC;\n",
              "    }\n",
              "\n",
              "    [theme=dark] .colab-df-convert:hover {\n",
              "      background-color: #434B5C;\n",
              "      box-shadow: 0px 1px 3px 1px rgba(0, 0, 0, 0.15);\n",
              "      filter: drop-shadow(0px 1px 2px rgba(0, 0, 0, 0.3));\n",
              "      fill: #FFFFFF;\n",
              "    }\n",
              "  </style>\n",
              "\n",
              "    <script>\n",
              "      const buttonEl =\n",
              "        document.querySelector('#df-3702b8f1-932f-49fc-bacb-3db530cab8ed button.colab-df-convert');\n",
              "      buttonEl.style.display =\n",
              "        google.colab.kernel.accessAllowed ? 'block' : 'none';\n",
              "\n",
              "      async function convertToInteractive(key) {\n",
              "        const element = document.querySelector('#df-3702b8f1-932f-49fc-bacb-3db530cab8ed');\n",
              "        const dataTable =\n",
              "          await google.colab.kernel.invokeFunction('convertToInteractive',\n",
              "                                                    [key], {});\n",
              "        if (!dataTable) return;\n",
              "\n",
              "        const docLinkHtml = 'Like what you see? Visit the ' +\n",
              "          '<a target=\"_blank\" href=https://colab.research.google.com/notebooks/data_table.ipynb>data table notebook</a>'\n",
              "          + ' to learn more about interactive tables.';\n",
              "        element.innerHTML = '';\n",
              "        dataTable['output_type'] = 'display_data';\n",
              "        await google.colab.output.renderOutput(dataTable, element);\n",
              "        const docLink = document.createElement('div');\n",
              "        docLink.innerHTML = docLinkHtml;\n",
              "        element.appendChild(docLink);\n",
              "      }\n",
              "    </script>\n",
              "  </div>\n",
              "\n",
              "\n",
              "<div id=\"df-506fb3f0-dd2a-4027-b136-915db60908bd\">\n",
              "  <button class=\"colab-df-quickchart\" onclick=\"quickchart('df-506fb3f0-dd2a-4027-b136-915db60908bd')\"\n",
              "            title=\"Suggest charts\"\n",
              "            style=\"display:none;\">\n",
              "\n",
              "<svg xmlns=\"http://www.w3.org/2000/svg\" height=\"24px\"viewBox=\"0 0 24 24\"\n",
              "     width=\"24px\">\n",
              "    <g>\n",
              "        <path d=\"M19 3H5c-1.1 0-2 .9-2 2v14c0 1.1.9 2 2 2h14c1.1 0 2-.9 2-2V5c0-1.1-.9-2-2-2zM9 17H7v-7h2v7zm4 0h-2V7h2v10zm4 0h-2v-4h2v4z\"/>\n",
              "    </g>\n",
              "</svg>\n",
              "  </button>\n",
              "\n",
              "<style>\n",
              "  .colab-df-quickchart {\n",
              "      --bg-color: #E8F0FE;\n",
              "      --fill-color: #1967D2;\n",
              "      --hover-bg-color: #E2EBFA;\n",
              "      --hover-fill-color: #174EA6;\n",
              "      --disabled-fill-color: #AAA;\n",
              "      --disabled-bg-color: #DDD;\n",
              "  }\n",
              "\n",
              "  [theme=dark] .colab-df-quickchart {\n",
              "      --bg-color: #3B4455;\n",
              "      --fill-color: #D2E3FC;\n",
              "      --hover-bg-color: #434B5C;\n",
              "      --hover-fill-color: #FFFFFF;\n",
              "      --disabled-bg-color: #3B4455;\n",
              "      --disabled-fill-color: #666;\n",
              "  }\n",
              "\n",
              "  .colab-df-quickchart {\n",
              "    background-color: var(--bg-color);\n",
              "    border: none;\n",
              "    border-radius: 50%;\n",
              "    cursor: pointer;\n",
              "    display: none;\n",
              "    fill: var(--fill-color);\n",
              "    height: 32px;\n",
              "    padding: 0;\n",
              "    width: 32px;\n",
              "  }\n",
              "\n",
              "  .colab-df-quickchart:hover {\n",
              "    background-color: var(--hover-bg-color);\n",
              "    box-shadow: 0 1px 2px rgba(60, 64, 67, 0.3), 0 1px 3px 1px rgba(60, 64, 67, 0.15);\n",
              "    fill: var(--button-hover-fill-color);\n",
              "  }\n",
              "\n",
              "  .colab-df-quickchart-complete:disabled,\n",
              "  .colab-df-quickchart-complete:disabled:hover {\n",
              "    background-color: var(--disabled-bg-color);\n",
              "    fill: var(--disabled-fill-color);\n",
              "    box-shadow: none;\n",
              "  }\n",
              "\n",
              "  .colab-df-spinner {\n",
              "    border: 2px solid var(--fill-color);\n",
              "    border-color: transparent;\n",
              "    border-bottom-color: var(--fill-color);\n",
              "    animation:\n",
              "      spin 1s steps(1) infinite;\n",
              "  }\n",
              "\n",
              "  @keyframes spin {\n",
              "    0% {\n",
              "      border-color: transparent;\n",
              "      border-bottom-color: var(--fill-color);\n",
              "      border-left-color: var(--fill-color);\n",
              "    }\n",
              "    20% {\n",
              "      border-color: transparent;\n",
              "      border-left-color: var(--fill-color);\n",
              "      border-top-color: var(--fill-color);\n",
              "    }\n",
              "    30% {\n",
              "      border-color: transparent;\n",
              "      border-left-color: var(--fill-color);\n",
              "      border-top-color: var(--fill-color);\n",
              "      border-right-color: var(--fill-color);\n",
              "    }\n",
              "    40% {\n",
              "      border-color: transparent;\n",
              "      border-right-color: var(--fill-color);\n",
              "      border-top-color: var(--fill-color);\n",
              "    }\n",
              "    60% {\n",
              "      border-color: transparent;\n",
              "      border-right-color: var(--fill-color);\n",
              "    }\n",
              "    80% {\n",
              "      border-color: transparent;\n",
              "      border-right-color: var(--fill-color);\n",
              "      border-bottom-color: var(--fill-color);\n",
              "    }\n",
              "    90% {\n",
              "      border-color: transparent;\n",
              "      border-bottom-color: var(--fill-color);\n",
              "    }\n",
              "  }\n",
              "</style>\n",
              "\n",
              "  <script>\n",
              "    async function quickchart(key) {\n",
              "      const quickchartButtonEl =\n",
              "        document.querySelector('#' + key + ' button');\n",
              "      quickchartButtonEl.disabled = true;  // To prevent multiple clicks.\n",
              "      quickchartButtonEl.classList.add('colab-df-spinner');\n",
              "      try {\n",
              "        const charts = await google.colab.kernel.invokeFunction(\n",
              "            'suggestCharts', [key], {});\n",
              "      } catch (error) {\n",
              "        console.error('Error during call to suggestCharts:', error);\n",
              "      }\n",
              "      quickchartButtonEl.classList.remove('colab-df-spinner');\n",
              "      quickchartButtonEl.classList.add('colab-df-quickchart-complete');\n",
              "    }\n",
              "    (() => {\n",
              "      let quickchartButtonEl =\n",
              "        document.querySelector('#df-506fb3f0-dd2a-4027-b136-915db60908bd button');\n",
              "      quickchartButtonEl.style.display =\n",
              "        google.colab.kernel.accessAllowed ? 'block' : 'none';\n",
              "    })();\n",
              "  </script>\n",
              "</div>\n",
              "\n",
              "    </div>\n",
              "  </div>\n"
            ],
            "application/vnd.google.colaboratory.intrinsic+json": {
              "type": "dataframe",
              "variable_name": "e2"
            }
          },
          "metadata": {},
          "execution_count": 260
        }
      ]
    },
    {
      "cell_type": "code",
      "source": [
        "df.iloc[1,2]"
      ],
      "metadata": {
        "colab": {
          "base_uri": "https://localhost:8080/",
          "height": 35
        },
        "id": "iYeJbOqpqxhx",
        "outputId": "a748e4ec-a0a4-4182-dd1b-a079dadec893"
      },
      "execution_count": null,
      "outputs": [
        {
          "output_type": "execute_result",
          "data": {
            "text/plain": [
              "'(-118.43943556686565, 34.06966609418726) (-118.43941471408597, 34.069832188795985) (-118.43955842886017, 34.0699341381443) (-118.4397158, 34.0700211)'"
            ],
            "application/vnd.google.colaboratory.intrinsic+json": {
              "type": "string"
            }
          },
          "metadata": {},
          "execution_count": 174
        }
      ]
    },
    {
      "cell_type": "code",
      "source": [
        "cc = extract_coordinates(df.iloc[5,10])\n",
        "cc"
      ],
      "metadata": {
        "colab": {
          "base_uri": "https://localhost:8080/"
        },
        "id": "gQYh_Wrvnyc5",
        "outputId": "64c218dd-88ed-495c-c421-d56fcf6341bd"
      },
      "execution_count": null,
      "outputs": [
        {
          "output_type": "execute_result",
          "data": {
            "text/plain": [
              "['(-118.4491277, 34.0732091)', '(-118.44915, 34.07326)']"
            ]
          },
          "metadata": {},
          "execution_count": 268
        }
      ]
    },
    {
      "cell_type": "code",
      "source": [
        "lon, lat = map(float, cc[1].strip(\"()\").split(\", \"))\n",
        "print(lat, lon)"
      ],
      "metadata": {
        "colab": {
          "base_uri": "https://localhost:8080/"
        },
        "id": "ydZWZH-7rBcU",
        "outputId": "c15ac71c-6ed2-4038-879c-2b5eda660eda"
      },
      "execution_count": null,
      "outputs": [
        {
          "output_type": "stream",
          "name": "stdout",
          "text": [
            "34.07326 -118.44915\n"
          ]
        }
      ]
    },
    {
      "cell_type": "code",
      "source": [
        "get_elevation(lat, lon)"
      ],
      "metadata": {
        "colab": {
          "base_uri": "https://localhost:8080/"
        },
        "id": "OG9GBdk1oIyI",
        "outputId": "e1e79765-36d8-4019-b51d-265869699d88"
      },
      "execution_count": null,
      "outputs": [
        {
          "output_type": "execute_result",
          "data": {
            "text/plain": [
              "132.71839904785156"
            ]
          },
          "metadata": {},
          "execution_count": 270
        }
      ]
    },
    {
      "cell_type": "code",
      "source": [
        "elevations[5]"
      ],
      "metadata": {
        "colab": {
          "base_uri": "https://localhost:8080/"
        },
        "id": "i2wgO9JMGCjN",
        "outputId": "15ebe31e-d96f-4a93-aee1-1d4b24cca94c"
      },
      "execution_count": null,
      "outputs": [
        {
          "output_type": "execute_result",
          "data": {
            "text/plain": [
              "['',\n",
              " '',\n",
              " '',\n",
              " '',\n",
              " '',\n",
              " '',\n",
              " '',\n",
              " '',\n",
              " '',\n",
              " '',\n",
              " '132.70004272460938 None',\n",
              " '',\n",
              " '',\n",
              " '',\n",
              " '',\n",
              " '',\n",
              " '',\n",
              " '',\n",
              " '',\n",
              " '',\n",
              " '',\n",
              " '',\n",
              " '',\n",
              " '',\n",
              " '',\n",
              " '',\n",
              " '',\n",
              " '',\n",
              " '',\n",
              " '',\n",
              " '',\n",
              " '',\n",
              " '',\n",
              " '',\n",
              " '',\n",
              " '',\n",
              " '',\n",
              " '',\n",
              " '',\n",
              " '',\n",
              " '',\n",
              " '',\n",
              " '',\n",
              " '',\n",
              " '',\n",
              " '',\n",
              " '',\n",
              " '',\n",
              " '',\n",
              " '',\n",
              " '',\n",
              " '',\n",
              " '',\n",
              " '',\n",
              " '',\n",
              " '',\n",
              " '',\n",
              " '',\n",
              " '',\n",
              " '',\n",
              " '',\n",
              " '',\n",
              " '',\n",
              " '',\n",
              " '',\n",
              " '',\n",
              " '',\n",
              " '',\n",
              " '',\n",
              " '',\n",
              " '',\n",
              " '',\n",
              " '',\n",
              " '',\n",
              " '',\n",
              " '',\n",
              " '',\n",
              " '',\n",
              " '',\n",
              " '',\n",
              " '',\n",
              " '',\n",
              " '',\n",
              " '',\n",
              " '',\n",
              " '',\n",
              " '',\n",
              " '',\n",
              " '',\n",
              " '',\n",
              " '',\n",
              " '',\n",
              " '',\n",
              " '',\n",
              " '',\n",
              " '',\n",
              " '',\n",
              " '',\n",
              " '',\n",
              " '',\n",
              " '',\n",
              " '',\n",
              " '',\n",
              " '',\n",
              " '',\n",
              " '',\n",
              " '',\n",
              " '',\n",
              " '',\n",
              " '',\n",
              " '',\n",
              " '',\n",
              " '',\n",
              " '',\n",
              " '',\n",
              " '',\n",
              " '',\n",
              " '',\n",
              " '',\n",
              " '',\n",
              " '',\n",
              " '',\n",
              " '',\n",
              " '',\n",
              " '',\n",
              " '',\n",
              " '',\n",
              " '',\n",
              " '',\n",
              " '',\n",
              " '',\n",
              " '',\n",
              " '',\n",
              " '',\n",
              " '',\n",
              " '',\n",
              " '',\n",
              " '',\n",
              " '',\n",
              " '',\n",
              " '',\n",
              " '',\n",
              " '',\n",
              " '',\n",
              " '',\n",
              " '',\n",
              " '',\n",
              " '',\n",
              " '',\n",
              " '',\n",
              " '',\n",
              " '',\n",
              " '',\n",
              " '',\n",
              " '',\n",
              " '',\n",
              " '',\n",
              " '',\n",
              " '',\n",
              " '',\n",
              " '',\n",
              " '',\n",
              " '',\n",
              " '',\n",
              " '',\n",
              " '',\n",
              " '',\n",
              " '',\n",
              " '',\n",
              " '',\n",
              " '',\n",
              " '',\n",
              " '',\n",
              " '',\n",
              " '',\n",
              " '',\n",
              " '',\n",
              " '',\n",
              " '',\n",
              " '',\n",
              " '',\n",
              " '',\n",
              " '',\n",
              " '',\n",
              " '',\n",
              " '',\n",
              " '',\n",
              " '',\n",
              " '',\n",
              " '',\n",
              " '',\n",
              " '',\n",
              " '',\n",
              " '',\n",
              " '',\n",
              " '',\n",
              " '',\n",
              " '',\n",
              " '',\n",
              " '',\n",
              " '',\n",
              " '',\n",
              " '',\n",
              " '',\n",
              " '',\n",
              " '',\n",
              " '',\n",
              " '',\n",
              " '',\n",
              " '',\n",
              " '',\n",
              " '',\n",
              " '',\n",
              " '',\n",
              " '',\n",
              " '',\n",
              " '',\n",
              " '',\n",
              " '',\n",
              " '',\n",
              " '',\n",
              " '',\n",
              " '',\n",
              " '',\n",
              " '',\n",
              " '',\n",
              " '',\n",
              " '',\n",
              " '',\n",
              " '',\n",
              " '',\n",
              " '',\n",
              " '',\n",
              " '',\n",
              " '',\n",
              " '',\n",
              " '',\n",
              " '',\n",
              " '',\n",
              " '',\n",
              " '',\n",
              " '',\n",
              " '',\n",
              " '',\n",
              " '',\n",
              " '',\n",
              " '',\n",
              " '',\n",
              " '',\n",
              " '',\n",
              " '',\n",
              " '',\n",
              " '',\n",
              " '',\n",
              " '',\n",
              " '',\n",
              " '',\n",
              " '',\n",
              " '',\n",
              " '',\n",
              " '',\n",
              " '',\n",
              " '',\n",
              " '',\n",
              " '',\n",
              " '',\n",
              " '',\n",
              " '',\n",
              " '',\n",
              " '',\n",
              " '',\n",
              " '',\n",
              " '',\n",
              " '',\n",
              " '',\n",
              " '',\n",
              " '',\n",
              " '',\n",
              " '',\n",
              " '',\n",
              " '',\n",
              " '',\n",
              " '',\n",
              " '',\n",
              " '',\n",
              " '',\n",
              " '',\n",
              " '',\n",
              " '',\n",
              " '',\n",
              " '',\n",
              " '',\n",
              " '',\n",
              " '',\n",
              " '',\n",
              " '',\n",
              " '',\n",
              " '',\n",
              " '',\n",
              " '',\n",
              " '',\n",
              " '',\n",
              " 'None None',\n",
              " '',\n",
              " '',\n",
              " '',\n",
              " '',\n",
              " '',\n",
              " '',\n",
              " '',\n",
              " '',\n",
              " '',\n",
              " '',\n",
              " '',\n",
              " '',\n",
              " '',\n",
              " '',\n",
              " '',\n",
              " '',\n",
              " '',\n",
              " '',\n",
              " '',\n",
              " '',\n",
              " '',\n",
              " '',\n",
              " '',\n",
              " '',\n",
              " '',\n",
              " '',\n",
              " '',\n",
              " '',\n",
              " '',\n",
              " '',\n",
              " '',\n",
              " '',\n",
              " '',\n",
              " '',\n",
              " '',\n",
              " '',\n",
              " '',\n",
              " '',\n",
              " '',\n",
              " '',\n",
              " '',\n",
              " '',\n",
              " '',\n",
              " '',\n",
              " '',\n",
              " '',\n",
              " '',\n",
              " '',\n",
              " '',\n",
              " '',\n",
              " '',\n",
              " '',\n",
              " '',\n",
              " '',\n",
              " '',\n",
              " '',\n",
              " '',\n",
              " '',\n",
              " '',\n",
              " '',\n",
              " '',\n",
              " '',\n",
              " '',\n",
              " '',\n",
              " '',\n",
              " '',\n",
              " '',\n",
              " '',\n",
              " '',\n",
              " '',\n",
              " '',\n",
              " '',\n",
              " '',\n",
              " '',\n",
              " '',\n",
              " '',\n",
              " '',\n",
              " '',\n",
              " '',\n",
              " '',\n",
              " '',\n",
              " '',\n",
              " '',\n",
              " '',\n",
              " '',\n",
              " '',\n",
              " '',\n",
              " '',\n",
              " '',\n",
              " '',\n",
              " '',\n",
              " '',\n",
              " '',\n",
              " '',\n",
              " '',\n",
              " '',\n",
              " '',\n",
              " '',\n",
              " '',\n",
              " '',\n",
              " '',\n",
              " '',\n",
              " '',\n",
              " '',\n",
              " '',\n",
              " '',\n",
              " '',\n",
              " '',\n",
              " '',\n",
              " '',\n",
              " '',\n",
              " '',\n",
              " '',\n",
              " '',\n",
              " '',\n",
              " '',\n",
              " '',\n",
              " '',\n",
              " '',\n",
              " '',\n",
              " '',\n",
              " '',\n",
              " '',\n",
              " '',\n",
              " '',\n",
              " '',\n",
              " '',\n",
              " '',\n",
              " '',\n",
              " '',\n",
              " '',\n",
              " '',\n",
              " '',\n",
              " '',\n",
              " '',\n",
              " '',\n",
              " '',\n",
              " '',\n",
              " '',\n",
              " '',\n",
              " '',\n",
              " '',\n",
              " '',\n",
              " '',\n",
              " '',\n",
              " '',\n",
              " '',\n",
              " '',\n",
              " '',\n",
              " '',\n",
              " '',\n",
              " '',\n",
              " '',\n",
              " '',\n",
              " '',\n",
              " '',\n",
              " '',\n",
              " '',\n",
              " '',\n",
              " '',\n",
              " '',\n",
              " '',\n",
              " '',\n",
              " '',\n",
              " '',\n",
              " '',\n",
              " '',\n",
              " '',\n",
              " '',\n",
              " '',\n",
              " '',\n",
              " '',\n",
              " '',\n",
              " '',\n",
              " '',\n",
              " '',\n",
              " '',\n",
              " '',\n",
              " '',\n",
              " '',\n",
              " '',\n",
              " '',\n",
              " '',\n",
              " '',\n",
              " '',\n",
              " '',\n",
              " '',\n",
              " '',\n",
              " '',\n",
              " '',\n",
              " '',\n",
              " '',\n",
              " '',\n",
              " '',\n",
              " '',\n",
              " '',\n",
              " '',\n",
              " '',\n",
              " '',\n",
              " '',\n",
              " '',\n",
              " '',\n",
              " '',\n",
              " '',\n",
              " '',\n",
              " '',\n",
              " '',\n",
              " '',\n",
              " '',\n",
              " '',\n",
              " '',\n",
              " '',\n",
              " '',\n",
              " '',\n",
              " '',\n",
              " '',\n",
              " '',\n",
              " '',\n",
              " '',\n",
              " '',\n",
              " '',\n",
              " '',\n",
              " '',\n",
              " '',\n",
              " '',\n",
              " '',\n",
              " '',\n",
              " '',\n",
              " '',\n",
              " '',\n",
              " '',\n",
              " '',\n",
              " '',\n",
              " '',\n",
              " '',\n",
              " '',\n",
              " '',\n",
              " '',\n",
              " '',\n",
              " '',\n",
              " '',\n",
              " '',\n",
              " '',\n",
              " '',\n",
              " '',\n",
              " '',\n",
              " '',\n",
              " '',\n",
              " '',\n",
              " '',\n",
              " '',\n",
              " '',\n",
              " '',\n",
              " '',\n",
              " '',\n",
              " '',\n",
              " '',\n",
              " '',\n",
              " '',\n",
              " '',\n",
              " '',\n",
              " '',\n",
              " '',\n",
              " '',\n",
              " '',\n",
              " '',\n",
              " '',\n",
              " '',\n",
              " '',\n",
              " '',\n",
              " '',\n",
              " '',\n",
              " '',\n",
              " '',\n",
              " '',\n",
              " '',\n",
              " '',\n",
              " '',\n",
              " '',\n",
              " '',\n",
              " '',\n",
              " '',\n",
              " '',\n",
              " '',\n",
              " '',\n",
              " '',\n",
              " '',\n",
              " '',\n",
              " '',\n",
              " '',\n",
              " '',\n",
              " '',\n",
              " '',\n",
              " '',\n",
              " '',\n",
              " '',\n",
              " '',\n",
              " '',\n",
              " '',\n",
              " '',\n",
              " '',\n",
              " '',\n",
              " '',\n",
              " '',\n",
              " '',\n",
              " '',\n",
              " '',\n",
              " '',\n",
              " '',\n",
              " '',\n",
              " '',\n",
              " '',\n",
              " '',\n",
              " '',\n",
              " '',\n",
              " '',\n",
              " '',\n",
              " '',\n",
              " '',\n",
              " '',\n",
              " '',\n",
              " '',\n",
              " '',\n",
              " '',\n",
              " '',\n",
              " '',\n",
              " '',\n",
              " '',\n",
              " '',\n",
              " '',\n",
              " '',\n",
              " '',\n",
              " '',\n",
              " '',\n",
              " '',\n",
              " '',\n",
              " '',\n",
              " '',\n",
              " '',\n",
              " '',\n",
              " '',\n",
              " '',\n",
              " '',\n",
              " '',\n",
              " '',\n",
              " '',\n",
              " '',\n",
              " '',\n",
              " '',\n",
              " '',\n",
              " '',\n",
              " '',\n",
              " '',\n",
              " '',\n",
              " '',\n",
              " '',\n",
              " '',\n",
              " '',\n",
              " '',\n",
              " '',\n",
              " '',\n",
              " '',\n",
              " '',\n",
              " '',\n",
              " '',\n",
              " '',\n",
              " '',\n",
              " '',\n",
              " '',\n",
              " '',\n",
              " '',\n",
              " '',\n",
              " '',\n",
              " '',\n",
              " '',\n",
              " '',\n",
              " '',\n",
              " '',\n",
              " '',\n",
              " '',\n",
              " '',\n",
              " '',\n",
              " '',\n",
              " '',\n",
              " '',\n",
              " '',\n",
              " '',\n",
              " '',\n",
              " '',\n",
              " '',\n",
              " '',\n",
              " '',\n",
              " '',\n",
              " '',\n",
              " '',\n",
              " '',\n",
              " '',\n",
              " '',\n",
              " '',\n",
              " '',\n",
              " '',\n",
              " '',\n",
              " '',\n",
              " '',\n",
              " '',\n",
              " '',\n",
              " '',\n",
              " '',\n",
              " '',\n",
              " '',\n",
              " '',\n",
              " '',\n",
              " '',\n",
              " '',\n",
              " '',\n",
              " '',\n",
              " '',\n",
              " '',\n",
              " '',\n",
              " '',\n",
              " '',\n",
              " '',\n",
              " '',\n",
              " '',\n",
              " '',\n",
              " '',\n",
              " '',\n",
              " '',\n",
              " '',\n",
              " '',\n",
              " '',\n",
              " '',\n",
              " '',\n",
              " '',\n",
              " '',\n",
              " '',\n",
              " '',\n",
              " '',\n",
              " '',\n",
              " '',\n",
              " '',\n",
              " '',\n",
              " '',\n",
              " '',\n",
              " '',\n",
              " 'None 132.7932586669922 None None None 133.0621337890625 None None None 133.39649963378906 None None',\n",
              " '',\n",
              " '',\n",
              " '',\n",
              " '',\n",
              " '',\n",
              " '',\n",
              " '',\n",
              " '',\n",
              " '',\n",
              " '',\n",
              " '',\n",
              " '',\n",
              " '',\n",
              " '',\n",
              " '',\n",
              " '',\n",
              " '',\n",
              " '',\n",
              " '',\n",
              " '',\n",
              " '',\n",
              " '',\n",
              " '',\n",
              " '',\n",
              " '',\n",
              " '',\n",
              " '',\n",
              " '',\n",
              " '',\n",
              " '',\n",
              " '',\n",
              " '',\n",
              " '',\n",
              " '',\n",
              " '',\n",
              " '',\n",
              " '',\n",
              " '',\n",
              " '',\n",
              " '',\n",
              " '',\n",
              " '',\n",
              " '',\n",
              " '',\n",
              " '',\n",
              " '',\n",
              " '',\n",
              " '',\n",
              " '',\n",
              " '',\n",
              " '',\n",
              " '',\n",
              " '',\n",
              " '',\n",
              " '',\n",
              " '',\n",
              " '',\n",
              " '',\n",
              " '',\n",
              " '',\n",
              " '',\n",
              " '',\n",
              " '',\n",
              " '',\n",
              " '',\n",
              " '',\n",
              " '',\n",
              " '',\n",
              " '',\n",
              " '',\n",
              " '',\n",
              " '',\n",
              " '',\n",
              " '',\n",
              " '',\n",
              " '',\n",
              " '',\n",
              " '',\n",
              " '',\n",
              " '',\n",
              " '',\n",
              " '',\n",
              " '',\n",
              " '',\n",
              " '',\n",
              " '',\n",
              " '',\n",
              " '',\n",
              " '',\n",
              " '',\n",
              " '',\n",
              " '',\n",
              " '',\n",
              " '',\n",
              " '',\n",
              " '',\n",
              " '',\n",
              " '',\n",
              " '',\n",
              " '',\n",
              " '',\n",
              " '',\n",
              " '',\n",
              " '',\n",
              " '',\n",
              " '',\n",
              " '',\n",
              " '',\n",
              " '',\n",
              " '',\n",
              " '',\n",
              " '',\n",
              " '',\n",
              " '',\n",
              " '',\n",
              " '',\n",
              " '',\n",
              " '',\n",
              " '',\n",
              " '',\n",
              " '',\n",
              " '',\n",
              " '',\n",
              " '',\n",
              " '',\n",
              " '',\n",
              " '',\n",
              " '',\n",
              " '',\n",
              " '',\n",
              " '',\n",
              " '',\n",
              " '',\n",
              " '',\n",
              " '',\n",
              " '',\n",
              " '',\n",
              " '',\n",
              " '',\n",
              " '',\n",
              " '',\n",
              " '',\n",
              " '',\n",
              " '',\n",
              " '',\n",
              " '',\n",
              " '',\n",
              " '',\n",
              " '',\n",
              " '',\n",
              " '',\n",
              " '',\n",
              " '',\n",
              " '',\n",
              " '',\n",
              " '',\n",
              " '',\n",
              " '',\n",
              " '',\n",
              " '',\n",
              " '',\n",
              " '',\n",
              " '',\n",
              " '',\n",
              " '',\n",
              " '',\n",
              " '',\n",
              " '',\n",
              " '',\n",
              " '',\n",
              " '',\n",
              " '',\n",
              " '',\n",
              " '',\n",
              " '',\n",
              " '',\n",
              " '',\n",
              " '',\n",
              " '',\n",
              " '',\n",
              " '',\n",
              " '',\n",
              " '',\n",
              " '',\n",
              " '',\n",
              " '',\n",
              " '',\n",
              " '',\n",
              " '',\n",
              " '',\n",
              " '',\n",
              " '',\n",
              " '',\n",
              " '',\n",
              " '',\n",
              " '',\n",
              " '',\n",
              " '',\n",
              " '',\n",
              " '',\n",
              " '',\n",
              " '',\n",
              " '',\n",
              " '',\n",
              " '',\n",
              " '',\n",
              " '',\n",
              " '',\n",
              " '',\n",
              " '',\n",
              " '',\n",
              " '',\n",
              " '',\n",
              " '',\n",
              " '',\n",
              " '',\n",
              " '',\n",
              " '',\n",
              " '',\n",
              " '',\n",
              " '',\n",
              " '',\n",
              " '',\n",
              " '',\n",
              " '',\n",
              " '',\n",
              " '',\n",
              " '',\n",
              " '',\n",
              " '',\n",
              " '',\n",
              " '',\n",
              " '',\n",
              " '',\n",
              " '',\n",
              " '',\n",
              " '',\n",
              " '',\n",
              " '',\n",
              " '',\n",
              " '',\n",
              " '',\n",
              " '',\n",
              " '',\n",
              " '',\n",
              " '',\n",
              " '',\n",
              " '',\n",
              " '',\n",
              " '',\n",
              " '',\n",
              " ...]"
            ]
          },
          "metadata": {},
          "execution_count": 267
        }
      ]
    },
    {
      "cell_type": "code",
      "source": [
        "import requests\n",
        "\n",
        "# Open-Meteo API endpoint for elevation data\n",
        "api_url = \"https://api.opentopodata.org/v1/test-dataset\"\n",
        "\n",
        "# Send GET request to Open-Meteo API\n",
        "response = requests.get(api_url, params={\"locations\": f\"{lat},{lon}\"})\n",
        "\n",
        "# Check if the request was successful\n",
        "if response.status_code == 200:\n",
        "    print(response.text)\n",
        "    print(response.json()['results'][0]['elevation'])\n",
        "else:\n",
        "    print(\"Error: Unable to fetch data.\")\n"
      ],
      "metadata": {
        "colab": {
          "base_uri": "https://localhost:8080/"
        },
        "id": "qpfnRAIz2MvT",
        "outputId": "b56b5daf-7aa9-4fe0-f25f-08c7837266e9"
      },
      "execution_count": null,
      "outputs": [
        {
          "output_type": "stream",
          "name": "stdout",
          "text": [
            "{\n",
            "  \"results\": [\n",
            "    {\n",
            "      \"dataset\": \"test-dataset\",\n",
            "      \"elevation\": 134.9656219482422,\n",
            "      \"location\": {\n",
            "        \"lat\": 34.0700517,\n",
            "        \"lng\": -118.4397642\n",
            "      }\n",
            "    }\n",
            "  ],\n",
            "  \"status\": \"OK\"\n",
            "}\n",
            "\n",
            "134.9656219482422\n"
          ]
        }
      ]
    },
    {
      "cell_type": "code",
      "source": [
        "api_url = \"https://api.open-elevation.com/api/v1/lookup?\"\n",
        "response = requests.get(api_url, params={\"locations\": f\"{lat},{-118.4396158}\"})\n",
        "if response.status_code == 200:\n",
        "    try:\n",
        "        print(response.text)\n",
        "    except (KeyError, IndexError):\n",
        "        print('None')\n",
        "#print('none')"
      ],
      "metadata": {
        "colab": {
          "base_uri": "https://localhost:8080/"
        },
        "id": "oBD9OLSKn1wC",
        "outputId": "b2d96850-5ce3-453a-e5ff-476cb242ae32"
      },
      "execution_count": null,
      "outputs": [
        {
          "output_type": "stream",
          "name": "stdout",
          "text": [
            "{\"results\":[{\"latitude\":34.070021,\"longitude\":-118.439616,\"elevation\":143.0}]}\n"
          ]
        }
      ]
    },
    {
      "cell_type": "code",
      "source": [
        "response.json()"
      ],
      "metadata": {
        "colab": {
          "base_uri": "https://localhost:8080/"
        },
        "id": "pKKwFpdusQ8q",
        "outputId": "58281d07-28aa-485c-ffbb-e23aeae54c3e"
      },
      "execution_count": null,
      "outputs": [
        {
          "output_type": "execute_result",
          "data": {
            "text/plain": [
              "{'results': [{'latitude': 34.070021,\n",
              "   'longitude': -118.439716,\n",
              "   'elevation': 143.0}]}"
            ]
          },
          "metadata": {},
          "execution_count": 188
        }
      ]
    },
    {
      "cell_type": "code",
      "source": [],
      "metadata": {
        "id": "XStGj4A1n6ZC"
      },
      "execution_count": null,
      "outputs": []
    },
    {
      "cell_type": "code",
      "source": [
        "\n",
        "# Compute elevation differences\n",
        "steep_edges = []\n",
        "for i in range(len(coordinates) - 1):\n",
        "    lat1, lon1 = coordinates[i]\n",
        "    lat2, lon2 = coordinates[i + 1]\n",
        "    elev_diff = abs(elevations[i + 1] - elevations[i]) if elevations[i] and elevations[i + 1] else None\n",
        "\n",
        "    if elev_diff is not None and elev_diff > 0.833:\n",
        "        steep_edges.append(((lat1, lon1), (lat2, lon2), elev_diff))\n",
        "\n",
        "# Save steep edges to CSV\n",
        "steep_df = pd.DataFrame(steep_edges, columns=[\"Coord1\", \"Coord2\", \"Elevation Change\"])\n",
        "steep_df.to_csv(\"steep_edges.csv\", index=False)\n",
        "\n",
        "print(\"Steep elevation changes saved to steep_edges.csv\")"
      ],
      "metadata": {
        "id": "ZMawRJchHVIs"
      },
      "execution_count": null,
      "outputs": []
    },
    {
      "cell_type": "code",
      "source": [
        "neighbors = pd.read_csv('neighbor_matrix2.csv')\n",
        "neighbors.iloc[0,2]"
      ],
      "metadata": {
        "colab": {
          "base_uri": "https://localhost:8080/",
          "height": 90
        },
        "id": "kZ3vOboyHIZn",
        "outputId": "fe2ea745-d5a7-4f4d-cb1e-455ab5f71bd7"
      },
      "execution_count": null,
      "outputs": [
        {
          "output_type": "stream",
          "name": "stderr",
          "text": [
            "<ipython-input-279-ff0693e09863>:1: DtypeWarning: Columns (0,3,4,5,6,7,8,9,11,12,13,14,15,16,18,19,20,21,22,23,24,25,26,27,28,29,30,31,32,33,34,35,36,37,38,39,40,41,42,43,44,45,46,47,48,49,50,51,52,53,54,55,56,57,58,59,60,61,62,63,64,65,66,67,68,70,71,72,73,74,75,76,77,78,79,80,81,82,83,85,86,87,88,89,90,91,93,94,96,97,98,99,100,101,102,103,104,105,106,107,108,109,110,111,112,114,115,116,117,118,121,122,123,124,125,126,127,128,130,131,132,133,134,135,136,137,138,139,140,141,142,143,144,145,146,147,148,149,150,151,152,153,154,155,156,157,158,160,161,162,163,164,165,166,167,168,169,170,171,172,173,174,175,176,178,179,180,181,182,183,184,185,186,187,188,189,190,191,192,193,194,195,196,197,198,199,200,201,202,204,205,206,207,208,209,211,212,213,214,215,216,217,218,219,220,221,222,223,225,226,227,228,229,231,232,233,234,235,236,237,238,239,240,241,242,244,245,246,248,249,250,251,252,253,254,255,256,257,258,259,260,262,263,264,265,266,267,268,270,271,272,273,274,275,276,277,278,279,280,281,282,283,284,285,286,287,288,289,290,291,292,293,294,295,296,298,300,301,302,303,304,305,306,307,308,309,310,311,312,313,314,315,316,317,318,319,320,321,322,323,324,325,326,327,328,329,330,331,332,333,334,335,336,337,338,339,340,341,342,344,345,346,347,348,349,350,351,352,353,354,356,357,358,359,360,361,362,363,364,365,366,367,368,369,370,371,372,373,374,375,376,377,378,379,380,381,383,384,385,386,387,388,389,390,391,392,393,395,396,397,399,400,401,402,403,404,405,406,407,408,409,410,411,412,413,414,415,416,417,418,419,421,422,423,424,425,426,427,428,429,430,431,433,434,435,436,437,438,439,440,441,442,443,444,445,446,447,448,449,450,451,452,453,454,455,456,457,458,459,460,462,463,464,465,466,467,468,469,470,471,472,473,475,476,477,479,480,481,482,483,484,485,486,487,488,489,490,491,492,493,494,495,496,497,500,501,502,503,504,505,506,507,508,509,510,511,512,513,514,515,516,517,518,519,520,521,522,523,524,525,526,527,528,530,531,532,533,534,535,536,537,538,539,540,542,543,544,545,547,549,550,552,553,554,555,556,557,558,559,560,561,562,563,564,566,567,568,569,570,571,572,573,574,575,576,577,578,579,580,581,582,583,584,585,586,587,588,589,590,591,592,593,594,595,596,597,599,601,603,604,605,606,607,610,611,612,614,615,616,617,618,620,621,622,623,624,626,627,630,631,632,633,634,636,637,638,640,641,642,643,644,645,646,648,649,651,652,653,654,655,656,657,659,660,661,662,664,665,666,667,668,669,670,671,672,673,675,676,677,678,679,680,682,683,684,685,686,687,688,691,692,693,694,695,696,697,698,699,700,701,702,703,704,705,706,708,709,710,711,712,713,714,715,716,718,720,721,723,724,726,727,728,729,730,731,732,733,734,735,736,737,738,739,740,741,742,743,744,745,746,747,748,749,750,751,752,753,754,755,756,757,758,759,760,761,762,764,765,766,767,768,769,770,771,772,773,774,775,776,777,778,779,780,781,782,783,784,786,787,789,790,791,792,793,794,795,796,797,798,799,800,801,802,803,804,805,806,807,808,809,810,811,812,813,814,815,816,817,818,819,820,821,822,823,825,826,827,828,829,830,832,833,834,835,836,837,838,839,840,841,842,843,844,845,846,847,848,849,850,851,852,853,854,855,856,857,858,859,860,861,862,863,866,868,869,870,871,872,873,874,875,876,877,878,880,881,882,883,884,886,887,888,889,890,892,893,894,895,896,897,898,899,900,901,902,903,904,905,906,907,908,909,910,911,912,913,914,915,916,918,919,920,921,922,923,924,925,926,928,929,930,932,933,934,936,937,938,939,940,941,942,943,944,945,947,948,949,950,951,952,953,954,955,956,957,958,959,960,962,963,964,965,966,967,968,969,970,971,972,973,974,975,976,977,978,979,980,981,982,983,984,985,987,988,989,990,991,992,993,994,995,996,997,998,999,1000,1001,1002,1003,1004,1005,1006,1007,1009,1010,1011,1012,1014,1015,1016,1017,1018,1019,1020,1021,1022,1023,1024,1025,1026,1027,1028,1029,1030,1031,1032,1033,1034,1035,1036,1037,1038,1039,1040,1042,1043,1044,1045,1046,1047,1048,1049,1050,1051,1052,1053,1054,1055,1056,1057,1058,1059,1060,1061,1062,1063,1064,1065,1066,1067,1068,1069,1070,1071,1072,1073,1074,1075,1076,1077,1078,1079,1081,1083,1084,1085,1086,1087,1088,1089,1091,1092,1093,1094,1095,1097,1098,1099,1100,1101,1104,1105,1106,1107,1108,1109,1110,1111,1112,1113,1114,1115,1116,1117,1119,1120,1121,1122,1123,1124,1125,1126,1127,1128,1129,1130,1131,1132,1133,1134,1135,1136,1137,1138,1139,1140,1141,1142,1143,1144,1145,1146,1147,1148,1149,1150,1151,1152,1153,1154,1155,1156,1157,1158,1159,1160,1161,1162,1163,1164,1166,1167,1168,1169,1170,1171,1172,1173,1175,1176,1177,1178,1179,1180,1181,1182,1183,1184,1185,1186,1187,1188,1189,1190,1191,1192,1193,1194,1195,1196,1197,1198,1199,1200,1201,1202,1207,1208,1210,1211,1212,1213,1214,1215,1216,1217,1219,1220,1221,1222,1224,1225,1226,1227,1228,1229,1230,1231,1232,1233,1234,1235,1236,1237,1238,1239,1240,1241,1242,1244,1245,1246,1247,1248,1249,1250,1251,1252,1253,1254,1255,1256,1257,1258,1259,1260,1261,1262,1263,1264,1265,1266,1267,1268,1269,1270,1271,1272,1273,1274,1275,1276,1277,1278,1279,1281,1282,1283,1284,1285,1286,1287,1288,1289) have mixed types. Specify dtype option on import or set low_memory=False.\n",
            "  neighbors = pd.read_csv('neighbor_matrix2.csv')\n"
          ]
        },
        {
          "output_type": "execute_result",
          "data": {
            "text/plain": [
              "'(-118.4397642, 34.0700517) (-118.4397158, 34.0700211)'"
            ],
            "application/vnd.google.colaboratory.intrinsic+json": {
              "type": "string"
            }
          },
          "metadata": {},
          "execution_count": 279
        }
      ]
    },
    {
      "cell_type": "code",
      "source": [
        "neighbor_matrix[0][2]"
      ],
      "metadata": {
        "colab": {
          "base_uri": "https://localhost:8080/",
          "height": 35
        },
        "id": "DCL18aERJje5",
        "outputId": "67e8a3c6-d6f7-4737-a18e-2c86104d8c42"
      },
      "execution_count": null,
      "outputs": [
        {
          "output_type": "execute_result",
          "data": {
            "text/plain": [
              "'(-118.4397642, 34.0700517) (-118.4397158, 34.0700211)'"
            ],
            "application/vnd.google.colaboratory.intrinsic+json": {
              "type": "string"
            }
          },
          "metadata": {},
          "execution_count": 277
        }
      ]
    },
    {
      "cell_type": "code",
      "source": [
        "' '.join(str(element) for element in neighbor_matrix[0][2])"
      ],
      "metadata": {
        "colab": {
          "base_uri": "https://localhost:8080/",
          "height": 35
        },
        "id": "lE3vBzenKHZQ",
        "outputId": "a3abf1ce-76ec-4186-f62c-bba13194fddb"
      },
      "execution_count": null,
      "outputs": [
        {
          "output_type": "execute_result",
          "data": {
            "text/plain": [
              "'( - 1 1 8 . 4 3 9 7 6 4 2 ,   3 4 . 0 7 0 0 5 1 7 )   ( - 1 1 8 . 4 3 9 7 1 5 8 ,   3 4 . 0 7 0 0 2 1 1 )'"
            ],
            "application/vnd.google.colaboratory.intrinsic+json": {
              "type": "string"
            }
          },
          "metadata": {},
          "execution_count": 280
        }
      ]
    },
    {
      "cell_type": "code",
      "source": [
        "nx[1][2]"
      ],
      "metadata": {
        "colab": {
          "base_uri": "https://localhost:8080/"
        },
        "id": "K3lyKEK8JRu1",
        "outputId": "bc91e7a9-2ed4-4128-dd0b-c94331c83df7"
      },
      "execution_count": null,
      "outputs": [
        {
          "output_type": "execute_result",
          "data": {
            "text/plain": [
              "[(-118.43943556686565, 34.06966609418726),\n",
              " (-118.43941471408597, 34.069832188795985),\n",
              " (-118.43955842886017, 34.0699341381443),\n",
              " (-118.4397158, 34.0700211)]"
            ]
          },
          "metadata": {},
          "execution_count": 331
        }
      ]
    },
    {
      "cell_type": "code",
      "source": [
        "rx[1][2]"
      ],
      "metadata": {
        "colab": {
          "base_uri": "https://localhost:8080/",
          "height": 35
        },
        "id": "BdVzEGmyNiRG",
        "outputId": "ea486300-22f6-445b-f531-1325d364827d"
      },
      "execution_count": null,
      "outputs": [
        {
          "output_type": "execute_result",
          "data": {
            "text/plain": [
              "''"
            ],
            "application/vnd.google.colaboratory.intrinsic+json": {
              "type": "string"
            }
          },
          "metadata": {},
          "execution_count": 293
        }
      ]
    },
    {
      "cell_type": "code",
      "source": [
        "times = [['' for j in range(len(paths_matrix))] for i in range(len(paths_matrix))]\n",
        "for i in range(len(nex)):\n",
        "  for j in range(len(nex)):\n",
        "    time = 0\n",
        "    speed = 0.01864 #min per meters\n",
        "    distance = 20 #20m per segment\n",
        "    if nex[i][j] != '':\n",
        "      time += distance * speed * (len(nex[i][j])-1)\n",
        "      time += rx[i][j] * speed\n",
        "      times[i][j] = time"
      ],
      "metadata": {
        "id": "9qkIJuPqG6yv"
      },
      "execution_count": null,
      "outputs": []
    },
    {
      "cell_type": "code",
      "source": [
        "type(times[0][2])"
      ],
      "metadata": {
        "colab": {
          "base_uri": "https://localhost:8080/"
        },
        "id": "QYgNcQeWSJSV",
        "outputId": "82442861-3a33-42f4-bb7c-0045e2b62013"
      },
      "execution_count": null,
      "outputs": [
        {
          "output_type": "execute_result",
          "data": {
            "text/plain": [
              "float"
            ]
          },
          "metadata": {},
          "execution_count": 323
        }
      ]
    },
    {
      "cell_type": "markdown",
      "source": [
        "DIJKSTRAS"
      ],
      "metadata": {
        "id": "lwIQ5q-kU358"
      }
    },
    {
      "cell_type": "code",
      "source": [
        "import pandas as pd\n",
        "import networkx as nx\n",
        "import matplotlib.pyplot as plt"
      ],
      "metadata": {
        "id": "n60pcLjNU9BK"
      },
      "execution_count": null,
      "outputs": []
    },
    {
      "cell_type": "code",
      "source": [
        "segments = pd.read_csv(\"segments_final.csv\")\n",
        "#determines if each segment on the map is walkable or not\n",
        "for i in range(len(segments)):\n",
        "  value = segments.iloc[i, -1]\n",
        "  if pd.isna(value) or (isinstance(value, str) and '\"bicycle\"=>\"dismount\"' in value) or (isinstance(value, str) and '\"ramp\"=>\"no\"' in value):\n",
        "      segments.loc[i, 'walkable'] = 1 #1 is walk\n",
        "  else:\n",
        "      segments.loc[i, 'walkable'] = 0 #0 is bike"
      ],
      "metadata": {
        "id": "j3WuusV4VAny"
      },
      "execution_count": null,
      "outputs": []
    },
    {
      "cell_type": "code",
      "source": [
        "#function to split lines into smaller segments\n",
        "def fix_wkt(arr, walkable):\n",
        "  if len(arr) == 5:\n",
        "    final_segments.loc[len(final_segments)] = [arr[0] + ' ((' + arr[1] + ' ' + arr[2] + ',' + arr[3] + ' ' + arr[4] + '))', arr[1] + ' ' + arr[2], arr[3] + ' ' + arr[4], walkable]\n",
        "  else:\n",
        "    fix_wkt([arr[0], arr[-4], arr[-3], arr[-2], arr[-1]], walkable)\n",
        "    fix_wkt(arr[0:-2], walkable)"
      ],
      "metadata": {
        "id": "PUusGIyEVDF_"
      },
      "execution_count": null,
      "outputs": []
    },
    {
      "cell_type": "code",
      "source": [
        "#runs function on segments dataframe\n",
        "final_segments = pd.DataFrame(columns = ['WKT', 'start', 'end', 'walkable'])\n",
        "for i in range(len(segments)):\n",
        "  arr = segments.iloc[i, 0].replace(',', ' ').replace('(', ' ').replace(')', ' ').split()\n",
        "  fix_wkt(arr, segments.iloc[i]['walkable'])"
      ],
      "metadata": {
        "id": "gReYlALcVEkA"
      },
      "execution_count": null,
      "outputs": []
    },
    {
      "cell_type": "code",
      "source": [
        "import matplotlib.pyplot as plt\n",
        "import networkx as nx\n",
        "\n",
        "# Create a more complex graph\n",
        "G = nx.Graph()\n",
        "\n",
        "# Add edges with weights\n",
        "G.add_weighted_edges_from([\n",
        "    (0, 1, 3),\n",
        "    (1, 2, 1),\n",
        "    (2, 3, 2),\n",
        "    (0, 3, 10),\n",
        "    (3, 4, 5),\n",
        "    (4, 5, 7),\n",
        "    (2, 5, 4),\n",
        "    (1, 4, 6),\n",
        "    (0, 2, 8)\n",
        "])\n",
        "\n",
        "# Compute the shortest path using Dijkstra's algorithm\n",
        "start, end = 0, 5\n",
        "shortest_path = nx.dijkstra_path(G, source=start, target=end, weight='weight')\n",
        "shortest_distance = nx.dijkstra_path_length(G, source=start, target=end, weight='weight')\n",
        "\n",
        "# Print the shortest path and distance\n",
        "print(f\"Shortest path from {start} to {end}: {shortest_path}\")\n",
        "print(f\"Shortest distance from {start} to {end}: {shortest_distance}\")\n",
        "\n",
        "# Draw the graph with node labels and edge weights\n",
        "pos = nx.spring_layout(G)  # Use spring layout for better visual positioning\n",
        "nx.draw(G, pos, with_labels=True, node_color='lightblue', font_weight='bold', node_size=500, font_size=10)\n",
        "\n",
        "# Draw edge labels (weights)\n",
        "edge_labels = nx.get_edge_attributes(G, 'weight')\n",
        "nx.draw_networkx_edge_labels(G, pos, edge_labels=edge_labels)\n",
        "\n",
        "# Show the graph\n",
        "plt.show()\n"
      ],
      "metadata": {
        "id": "C6IV-9CxVWOR"
      },
      "execution_count": null,
      "outputs": []
    },
    {
      "cell_type": "code",
      "source": [
        "final_segments"
      ],
      "metadata": {
        "colab": {
          "base_uri": "https://localhost:8080/",
          "height": 423
        },
        "id": "TcGTG-FuWMy8",
        "outputId": "cb23071f-55fa-4cbd-a10e-43fe5e533694"
      },
      "execution_count": null,
      "outputs": [
        {
          "output_type": "execute_result",
          "data": {
            "text/plain": [
              "                                                    WKT  \\\n",
              "0     MULTILINESTRING ((-118.4397642 34.0700517,-118...   \n",
              "1     MULTILINESTRING ((-118.4397158 34.0700211,-118...   \n",
              "2     MULTILINESTRING ((-118.4394572 34.0698782,-118...   \n",
              "3     MULTILINESTRING ((-118.439424 34.0698519,-118....   \n",
              "4     MULTILINESTRING ((-118.4394077 34.0698173,-118...   \n",
              "...                                                 ...   \n",
              "4890  MULTILINESTRING ((-118.4426026 34.0709214,-118...   \n",
              "4891  MULTILINESTRING ((-118.4425227 34.0708585,-118...   \n",
              "4892  MULTILINESTRING ((-118.4424252 34.0707837,-118...   \n",
              "4893  MULTILINESTRING ((-118.4422318 34.0706232,-118...   \n",
              "4894  MULTILINESTRING ((-118.4422082 34.0706035,-118...   \n",
              "\n",
              "                        start                      end  walkable  \n",
              "0     -118.4397642 34.0700517  -118.4397158 34.0700211       0.0  \n",
              "1     -118.4397158 34.0700211  -118.4394572 34.0698782       1.0  \n",
              "2     -118.4394572 34.0698782   -118.439424 34.0698519       1.0  \n",
              "3      -118.439424 34.0698519  -118.4394077 34.0698173       1.0  \n",
              "4     -118.4394077 34.0698173  -118.4394126 34.0697651       1.0  \n",
              "...                       ...                      ...       ...  \n",
              "4890  -118.4426026 34.0709214  -118.4425227 34.0708585       1.0  \n",
              "4891  -118.4425227 34.0708585  -118.4424252 34.0707837       1.0  \n",
              "4892  -118.4424252 34.0707837  -118.4422318 34.0706232       1.0  \n",
              "4893  -118.4422318 34.0706232  -118.4422082 34.0706035       1.0  \n",
              "4894  -118.4422082 34.0706035   -118.442173 34.0705824       1.0  \n",
              "\n",
              "[4895 rows x 4 columns]"
            ],
            "text/html": [
              "\n",
              "  <div id=\"df-789e9fe8-d871-497e-bf73-80d7f54cb08f\" class=\"colab-df-container\">\n",
              "    <div>\n",
              "<style scoped>\n",
              "    .dataframe tbody tr th:only-of-type {\n",
              "        vertical-align: middle;\n",
              "    }\n",
              "\n",
              "    .dataframe tbody tr th {\n",
              "        vertical-align: top;\n",
              "    }\n",
              "\n",
              "    .dataframe thead th {\n",
              "        text-align: right;\n",
              "    }\n",
              "</style>\n",
              "<table border=\"1\" class=\"dataframe\">\n",
              "  <thead>\n",
              "    <tr style=\"text-align: right;\">\n",
              "      <th></th>\n",
              "      <th>WKT</th>\n",
              "      <th>start</th>\n",
              "      <th>end</th>\n",
              "      <th>walkable</th>\n",
              "    </tr>\n",
              "  </thead>\n",
              "  <tbody>\n",
              "    <tr>\n",
              "      <th>0</th>\n",
              "      <td>MULTILINESTRING ((-118.4397642 34.0700517,-118...</td>\n",
              "      <td>-118.4397642 34.0700517</td>\n",
              "      <td>-118.4397158 34.0700211</td>\n",
              "      <td>0.0</td>\n",
              "    </tr>\n",
              "    <tr>\n",
              "      <th>1</th>\n",
              "      <td>MULTILINESTRING ((-118.4397158 34.0700211,-118...</td>\n",
              "      <td>-118.4397158 34.0700211</td>\n",
              "      <td>-118.4394572 34.0698782</td>\n",
              "      <td>1.0</td>\n",
              "    </tr>\n",
              "    <tr>\n",
              "      <th>2</th>\n",
              "      <td>MULTILINESTRING ((-118.4394572 34.0698782,-118...</td>\n",
              "      <td>-118.4394572 34.0698782</td>\n",
              "      <td>-118.439424 34.0698519</td>\n",
              "      <td>1.0</td>\n",
              "    </tr>\n",
              "    <tr>\n",
              "      <th>3</th>\n",
              "      <td>MULTILINESTRING ((-118.439424 34.0698519,-118....</td>\n",
              "      <td>-118.439424 34.0698519</td>\n",
              "      <td>-118.4394077 34.0698173</td>\n",
              "      <td>1.0</td>\n",
              "    </tr>\n",
              "    <tr>\n",
              "      <th>4</th>\n",
              "      <td>MULTILINESTRING ((-118.4394077 34.0698173,-118...</td>\n",
              "      <td>-118.4394077 34.0698173</td>\n",
              "      <td>-118.4394126 34.0697651</td>\n",
              "      <td>1.0</td>\n",
              "    </tr>\n",
              "    <tr>\n",
              "      <th>...</th>\n",
              "      <td>...</td>\n",
              "      <td>...</td>\n",
              "      <td>...</td>\n",
              "      <td>...</td>\n",
              "    </tr>\n",
              "    <tr>\n",
              "      <th>4890</th>\n",
              "      <td>MULTILINESTRING ((-118.4426026 34.0709214,-118...</td>\n",
              "      <td>-118.4426026 34.0709214</td>\n",
              "      <td>-118.4425227 34.0708585</td>\n",
              "      <td>1.0</td>\n",
              "    </tr>\n",
              "    <tr>\n",
              "      <th>4891</th>\n",
              "      <td>MULTILINESTRING ((-118.4425227 34.0708585,-118...</td>\n",
              "      <td>-118.4425227 34.0708585</td>\n",
              "      <td>-118.4424252 34.0707837</td>\n",
              "      <td>1.0</td>\n",
              "    </tr>\n",
              "    <tr>\n",
              "      <th>4892</th>\n",
              "      <td>MULTILINESTRING ((-118.4424252 34.0707837,-118...</td>\n",
              "      <td>-118.4424252 34.0707837</td>\n",
              "      <td>-118.4422318 34.0706232</td>\n",
              "      <td>1.0</td>\n",
              "    </tr>\n",
              "    <tr>\n",
              "      <th>4893</th>\n",
              "      <td>MULTILINESTRING ((-118.4422318 34.0706232,-118...</td>\n",
              "      <td>-118.4422318 34.0706232</td>\n",
              "      <td>-118.4422082 34.0706035</td>\n",
              "      <td>1.0</td>\n",
              "    </tr>\n",
              "    <tr>\n",
              "      <th>4894</th>\n",
              "      <td>MULTILINESTRING ((-118.4422082 34.0706035,-118...</td>\n",
              "      <td>-118.4422082 34.0706035</td>\n",
              "      <td>-118.442173 34.0705824</td>\n",
              "      <td>1.0</td>\n",
              "    </tr>\n",
              "  </tbody>\n",
              "</table>\n",
              "<p>4895 rows × 4 columns</p>\n",
              "</div>\n",
              "    <div class=\"colab-df-buttons\">\n",
              "\n",
              "  <div class=\"colab-df-container\">\n",
              "    <button class=\"colab-df-convert\" onclick=\"convertToInteractive('df-789e9fe8-d871-497e-bf73-80d7f54cb08f')\"\n",
              "            title=\"Convert this dataframe to an interactive table.\"\n",
              "            style=\"display:none;\">\n",
              "\n",
              "  <svg xmlns=\"http://www.w3.org/2000/svg\" height=\"24px\" viewBox=\"0 -960 960 960\">\n",
              "    <path d=\"M120-120v-720h720v720H120Zm60-500h600v-160H180v160Zm220 220h160v-160H400v160Zm0 220h160v-160H400v160ZM180-400h160v-160H180v160Zm440 0h160v-160H620v160ZM180-180h160v-160H180v160Zm440 0h160v-160H620v160Z\"/>\n",
              "  </svg>\n",
              "    </button>\n",
              "\n",
              "  <style>\n",
              "    .colab-df-container {\n",
              "      display:flex;\n",
              "      gap: 12px;\n",
              "    }\n",
              "\n",
              "    .colab-df-convert {\n",
              "      background-color: #E8F0FE;\n",
              "      border: none;\n",
              "      border-radius: 50%;\n",
              "      cursor: pointer;\n",
              "      display: none;\n",
              "      fill: #1967D2;\n",
              "      height: 32px;\n",
              "      padding: 0 0 0 0;\n",
              "      width: 32px;\n",
              "    }\n",
              "\n",
              "    .colab-df-convert:hover {\n",
              "      background-color: #E2EBFA;\n",
              "      box-shadow: 0px 1px 2px rgba(60, 64, 67, 0.3), 0px 1px 3px 1px rgba(60, 64, 67, 0.15);\n",
              "      fill: #174EA6;\n",
              "    }\n",
              "\n",
              "    .colab-df-buttons div {\n",
              "      margin-bottom: 4px;\n",
              "    }\n",
              "\n",
              "    [theme=dark] .colab-df-convert {\n",
              "      background-color: #3B4455;\n",
              "      fill: #D2E3FC;\n",
              "    }\n",
              "\n",
              "    [theme=dark] .colab-df-convert:hover {\n",
              "      background-color: #434B5C;\n",
              "      box-shadow: 0px 1px 3px 1px rgba(0, 0, 0, 0.15);\n",
              "      filter: drop-shadow(0px 1px 2px rgba(0, 0, 0, 0.3));\n",
              "      fill: #FFFFFF;\n",
              "    }\n",
              "  </style>\n",
              "\n",
              "    <script>\n",
              "      const buttonEl =\n",
              "        document.querySelector('#df-789e9fe8-d871-497e-bf73-80d7f54cb08f button.colab-df-convert');\n",
              "      buttonEl.style.display =\n",
              "        google.colab.kernel.accessAllowed ? 'block' : 'none';\n",
              "\n",
              "      async function convertToInteractive(key) {\n",
              "        const element = document.querySelector('#df-789e9fe8-d871-497e-bf73-80d7f54cb08f');\n",
              "        const dataTable =\n",
              "          await google.colab.kernel.invokeFunction('convertToInteractive',\n",
              "                                                    [key], {});\n",
              "        if (!dataTable) return;\n",
              "\n",
              "        const docLinkHtml = 'Like what you see? Visit the ' +\n",
              "          '<a target=\"_blank\" href=https://colab.research.google.com/notebooks/data_table.ipynb>data table notebook</a>'\n",
              "          + ' to learn more about interactive tables.';\n",
              "        element.innerHTML = '';\n",
              "        dataTable['output_type'] = 'display_data';\n",
              "        await google.colab.output.renderOutput(dataTable, element);\n",
              "        const docLink = document.createElement('div');\n",
              "        docLink.innerHTML = docLinkHtml;\n",
              "        element.appendChild(docLink);\n",
              "      }\n",
              "    </script>\n",
              "  </div>\n",
              "\n",
              "\n",
              "<div id=\"df-ad74564a-c1bb-4c3a-b14b-7aa0425b3a66\">\n",
              "  <button class=\"colab-df-quickchart\" onclick=\"quickchart('df-ad74564a-c1bb-4c3a-b14b-7aa0425b3a66')\"\n",
              "            title=\"Suggest charts\"\n",
              "            style=\"display:none;\">\n",
              "\n",
              "<svg xmlns=\"http://www.w3.org/2000/svg\" height=\"24px\"viewBox=\"0 0 24 24\"\n",
              "     width=\"24px\">\n",
              "    <g>\n",
              "        <path d=\"M19 3H5c-1.1 0-2 .9-2 2v14c0 1.1.9 2 2 2h14c1.1 0 2-.9 2-2V5c0-1.1-.9-2-2-2zM9 17H7v-7h2v7zm4 0h-2V7h2v10zm4 0h-2v-4h2v4z\"/>\n",
              "    </g>\n",
              "</svg>\n",
              "  </button>\n",
              "\n",
              "<style>\n",
              "  .colab-df-quickchart {\n",
              "      --bg-color: #E8F0FE;\n",
              "      --fill-color: #1967D2;\n",
              "      --hover-bg-color: #E2EBFA;\n",
              "      --hover-fill-color: #174EA6;\n",
              "      --disabled-fill-color: #AAA;\n",
              "      --disabled-bg-color: #DDD;\n",
              "  }\n",
              "\n",
              "  [theme=dark] .colab-df-quickchart {\n",
              "      --bg-color: #3B4455;\n",
              "      --fill-color: #D2E3FC;\n",
              "      --hover-bg-color: #434B5C;\n",
              "      --hover-fill-color: #FFFFFF;\n",
              "      --disabled-bg-color: #3B4455;\n",
              "      --disabled-fill-color: #666;\n",
              "  }\n",
              "\n",
              "  .colab-df-quickchart {\n",
              "    background-color: var(--bg-color);\n",
              "    border: none;\n",
              "    border-radius: 50%;\n",
              "    cursor: pointer;\n",
              "    display: none;\n",
              "    fill: var(--fill-color);\n",
              "    height: 32px;\n",
              "    padding: 0;\n",
              "    width: 32px;\n",
              "  }\n",
              "\n",
              "  .colab-df-quickchart:hover {\n",
              "    background-color: var(--hover-bg-color);\n",
              "    box-shadow: 0 1px 2px rgba(60, 64, 67, 0.3), 0 1px 3px 1px rgba(60, 64, 67, 0.15);\n",
              "    fill: var(--button-hover-fill-color);\n",
              "  }\n",
              "\n",
              "  .colab-df-quickchart-complete:disabled,\n",
              "  .colab-df-quickchart-complete:disabled:hover {\n",
              "    background-color: var(--disabled-bg-color);\n",
              "    fill: var(--disabled-fill-color);\n",
              "    box-shadow: none;\n",
              "  }\n",
              "\n",
              "  .colab-df-spinner {\n",
              "    border: 2px solid var(--fill-color);\n",
              "    border-color: transparent;\n",
              "    border-bottom-color: var(--fill-color);\n",
              "    animation:\n",
              "      spin 1s steps(1) infinite;\n",
              "  }\n",
              "\n",
              "  @keyframes spin {\n",
              "    0% {\n",
              "      border-color: transparent;\n",
              "      border-bottom-color: var(--fill-color);\n",
              "      border-left-color: var(--fill-color);\n",
              "    }\n",
              "    20% {\n",
              "      border-color: transparent;\n",
              "      border-left-color: var(--fill-color);\n",
              "      border-top-color: var(--fill-color);\n",
              "    }\n",
              "    30% {\n",
              "      border-color: transparent;\n",
              "      border-left-color: var(--fill-color);\n",
              "      border-top-color: var(--fill-color);\n",
              "      border-right-color: var(--fill-color);\n",
              "    }\n",
              "    40% {\n",
              "      border-color: transparent;\n",
              "      border-right-color: var(--fill-color);\n",
              "      border-top-color: var(--fill-color);\n",
              "    }\n",
              "    60% {\n",
              "      border-color: transparent;\n",
              "      border-right-color: var(--fill-color);\n",
              "    }\n",
              "    80% {\n",
              "      border-color: transparent;\n",
              "      border-right-color: var(--fill-color);\n",
              "      border-bottom-color: var(--fill-color);\n",
              "    }\n",
              "    90% {\n",
              "      border-color: transparent;\n",
              "      border-bottom-color: var(--fill-color);\n",
              "    }\n",
              "  }\n",
              "</style>\n",
              "\n",
              "  <script>\n",
              "    async function quickchart(key) {\n",
              "      const quickchartButtonEl =\n",
              "        document.querySelector('#' + key + ' button');\n",
              "      quickchartButtonEl.disabled = true;  // To prevent multiple clicks.\n",
              "      quickchartButtonEl.classList.add('colab-df-spinner');\n",
              "      try {\n",
              "        const charts = await google.colab.kernel.invokeFunction(\n",
              "            'suggestCharts', [key], {});\n",
              "      } catch (error) {\n",
              "        console.error('Error during call to suggestCharts:', error);\n",
              "      }\n",
              "      quickchartButtonEl.classList.remove('colab-df-spinner');\n",
              "      quickchartButtonEl.classList.add('colab-df-quickchart-complete');\n",
              "    }\n",
              "    (() => {\n",
              "      let quickchartButtonEl =\n",
              "        document.querySelector('#df-ad74564a-c1bb-4c3a-b14b-7aa0425b3a66 button');\n",
              "      quickchartButtonEl.style.display =\n",
              "        google.colab.kernel.accessAllowed ? 'block' : 'none';\n",
              "    })();\n",
              "  </script>\n",
              "</div>\n",
              "\n",
              "  <div id=\"id_31e3e0ca-ef63-4382-9b94-bffe3168eca2\">\n",
              "    <style>\n",
              "      .colab-df-generate {\n",
              "        background-color: #E8F0FE;\n",
              "        border: none;\n",
              "        border-radius: 50%;\n",
              "        cursor: pointer;\n",
              "        display: none;\n",
              "        fill: #1967D2;\n",
              "        height: 32px;\n",
              "        padding: 0 0 0 0;\n",
              "        width: 32px;\n",
              "      }\n",
              "\n",
              "      .colab-df-generate:hover {\n",
              "        background-color: #E2EBFA;\n",
              "        box-shadow: 0px 1px 2px rgba(60, 64, 67, 0.3), 0px 1px 3px 1px rgba(60, 64, 67, 0.15);\n",
              "        fill: #174EA6;\n",
              "      }\n",
              "\n",
              "      [theme=dark] .colab-df-generate {\n",
              "        background-color: #3B4455;\n",
              "        fill: #D2E3FC;\n",
              "      }\n",
              "\n",
              "      [theme=dark] .colab-df-generate:hover {\n",
              "        background-color: #434B5C;\n",
              "        box-shadow: 0px 1px 3px 1px rgba(0, 0, 0, 0.15);\n",
              "        filter: drop-shadow(0px 1px 2px rgba(0, 0, 0, 0.3));\n",
              "        fill: #FFFFFF;\n",
              "      }\n",
              "    </style>\n",
              "    <button class=\"colab-df-generate\" onclick=\"generateWithVariable('final_segments')\"\n",
              "            title=\"Generate code using this dataframe.\"\n",
              "            style=\"display:none;\">\n",
              "\n",
              "  <svg xmlns=\"http://www.w3.org/2000/svg\" height=\"24px\"viewBox=\"0 0 24 24\"\n",
              "       width=\"24px\">\n",
              "    <path d=\"M7,19H8.4L18.45,9,17,7.55,7,17.6ZM5,21V16.75L18.45,3.32a2,2,0,0,1,2.83,0l1.4,1.43a1.91,1.91,0,0,1,.58,1.4,1.91,1.91,0,0,1-.58,1.4L9.25,21ZM18.45,9,17,7.55Zm-12,3A5.31,5.31,0,0,0,4.9,8.1,5.31,5.31,0,0,0,1,6.5,5.31,5.31,0,0,0,4.9,4.9,5.31,5.31,0,0,0,6.5,1,5.31,5.31,0,0,0,8.1,4.9,5.31,5.31,0,0,0,12,6.5,5.46,5.46,0,0,0,6.5,12Z\"/>\n",
              "  </svg>\n",
              "    </button>\n",
              "    <script>\n",
              "      (() => {\n",
              "      const buttonEl =\n",
              "        document.querySelector('#id_31e3e0ca-ef63-4382-9b94-bffe3168eca2 button.colab-df-generate');\n",
              "      buttonEl.style.display =\n",
              "        google.colab.kernel.accessAllowed ? 'block' : 'none';\n",
              "\n",
              "      buttonEl.onclick = () => {\n",
              "        google.colab.notebook.generateWithVariable('final_segments');\n",
              "      }\n",
              "      })();\n",
              "    </script>\n",
              "  </div>\n",
              "\n",
              "    </div>\n",
              "  </div>\n"
            ],
            "application/vnd.google.colaboratory.intrinsic+json": {
              "type": "dataframe",
              "variable_name": "final_segments",
              "summary": "{\n  \"name\": \"final_segments\",\n  \"rows\": 4895,\n  \"fields\": [\n    {\n      \"column\": \"WKT\",\n      \"properties\": {\n        \"dtype\": \"string\",\n        \"num_unique_values\": 4894,\n        \"samples\": [\n          \"MULTILINESTRING ((-118.4436408 34.0714944,-118.443643 34.0715946))\",\n          \"MULTILINESTRING ((-118.448666 34.0693076,-118.4486007 34.0692598))\",\n          \"MULTILINESTRING ((-118.4483388 34.0683337,-118.4483225 34.0683339))\"\n        ],\n        \"semantic_type\": \"\",\n        \"description\": \"\"\n      }\n    },\n    {\n      \"column\": \"start\",\n      \"properties\": {\n        \"dtype\": \"string\",\n        \"num_unique_values\": 3982,\n        \"samples\": [\n          \"-118.4407732 34.0746006\",\n          \"-118.4403632 34.0742323\",\n          \"-118.4396478 34.073134\"\n        ],\n        \"semantic_type\": \"\",\n        \"description\": \"\"\n      }\n    },\n    {\n      \"column\": \"end\",\n      \"properties\": {\n        \"dtype\": \"string\",\n        \"num_unique_values\": 4130,\n        \"samples\": [\n          \"-118.4373754 34.0722735\",\n          \"-118.4453054 34.0690998\",\n          \"-118.4395647 34.0703963\"\n        ],\n        \"semantic_type\": \"\",\n        \"description\": \"\"\n      }\n    },\n    {\n      \"column\": \"walkable\",\n      \"properties\": {\n        \"dtype\": \"number\",\n        \"std\": 0.014293008498232998,\n        \"min\": 0.0,\n        \"max\": 1.0,\n        \"num_unique_values\": 2,\n        \"samples\": [\n          1.0,\n          0.0\n        ],\n        \"semantic_type\": \"\",\n        \"description\": \"\"\n      }\n    }\n  ]\n}"
            }
          },
          "metadata": {},
          "execution_count": 327
        }
      ]
    },
    {
      "cell_type": "code",
      "source": [
        "nex[1][2]"
      ],
      "metadata": {
        "colab": {
          "base_uri": "https://localhost:8080/"
        },
        "id": "qo6hzeScY7S_",
        "outputId": "40c55c86-517f-4021-afff-b8f647100292"
      },
      "execution_count": null,
      "outputs": [
        {
          "output_type": "execute_result",
          "data": {
            "text/plain": [
              "[(-118.43943556686565, 34.06966609418726),\n",
              " (-118.43941471408597, 34.069832188795985),\n",
              " (-118.43955842886017, 34.0699341381443),\n",
              " (-118.4397158, 34.0700211)]"
            ]
          },
          "metadata": {},
          "execution_count": 346
        }
      ]
    },
    {
      "cell_type": "code",
      "source": [
        "#checks to see if network is fully connected\n",
        "seg_simple = final_segments[[\"start\", \"end\"]]\n",
        "\n",
        "# Create an undirected graph\n",
        "G = nx.Graph()\n",
        "\n",
        "# Add edges to the graph based on the segments\n",
        "for _, row in seg_simple.iterrows():\n",
        "    G.add_edge(row['start'], row['end'])\n",
        "\n",
        "for i in range(len(times)):\n",
        "    for j in range(i+1, len(times[i])):  # Only add edges once (i, j) and not (j, i)\n",
        "      if times[i][j] != '':\n",
        "        if times[i][j] > 0:  # Only add edges with positive weights (valid paths)\n",
        "            G.add_edge(i, j, weight=times[i][j])\n",
        "\n",
        "start, end = 1, 100\n",
        "shortest_path = nx.dijkstra_path(G, source=start, target=end, weight='weight')\n",
        "shortest_distance = nx.dijkstra_path_length(G, source=start, target=end, weight='weight')\n",
        "\n",
        "# Print the shortest path and distance\n",
        "print(f\"Shortest path from {start} to {end}: {shortest_path}\")\n",
        "print(f\"Shortest distance from {start} to {end}: {shortest_distance}\")"
      ],
      "metadata": {
        "colab": {
          "base_uri": "https://localhost:8080/"
        },
        "id": "Qerf61hIU6E8",
        "outputId": "c0a6ed6e-d911-46d6-fad7-c214fdb72b7f"
      },
      "execution_count": null,
      "outputs": [
        {
          "output_type": "stream",
          "name": "stdout",
          "text": [
            "Shortest path from 1 to 100: [1, 2, 816, 539, 614, 532, 524, 911, 79, 381, 563, 566, 564, 836, 499, 371, 358, 251, 68, 67, 66, 58, 343, 89, 341, 342, 708, 451, 167, 747, 746, 713, 714, 712, 301, 314, 975, 110, 106, 100]\n",
            "Shortest distance from 1 to 100: 43.99041084841826\n"
          ]
        }
      ]
    },
    {
      "cell_type": "code",
      "source": [
        "t = pd.DataFrame(times)\n",
        "t.head()"
      ],
      "metadata": {
        "colab": {
          "base_uri": "https://localhost:8080/",
          "height": 235
        },
        "id": "rmxTec59b_cC",
        "outputId": "cbb2228b-e17f-457f-d84e-28bc6cb4f8c8"
      },
      "execution_count": null,
      "outputs": [
        {
          "output_type": "execute_result",
          "data": {
            "text/plain": [
              "       0         1         2    3    4    5    6    7    8         9     ...  \\\n",
              "0                      0.745599                                          ...   \n",
              "1                      1.118402                                          ...   \n",
              "2  0.372801  1.491198                                                    ...   \n",
              "3                                                              0.372801  ...   \n",
              "4                                                                        ...   \n",
              "\n",
              "  1280 1281 1282 1283 1284 1285 1286 1287 1288 1289  \n",
              "0                                                    \n",
              "1                                                    \n",
              "2                                                    \n",
              "3                                                    \n",
              "4                                                    \n",
              "\n",
              "[5 rows x 1290 columns]"
            ],
            "text/html": [
              "\n",
              "  <div id=\"df-624d6428-0e2c-4f02-a7e8-5b3a9acc67f0\" class=\"colab-df-container\">\n",
              "    <div>\n",
              "<style scoped>\n",
              "    .dataframe tbody tr th:only-of-type {\n",
              "        vertical-align: middle;\n",
              "    }\n",
              "\n",
              "    .dataframe tbody tr th {\n",
              "        vertical-align: top;\n",
              "    }\n",
              "\n",
              "    .dataframe thead th {\n",
              "        text-align: right;\n",
              "    }\n",
              "</style>\n",
              "<table border=\"1\" class=\"dataframe\">\n",
              "  <thead>\n",
              "    <tr style=\"text-align: right;\">\n",
              "      <th></th>\n",
              "      <th>0</th>\n",
              "      <th>1</th>\n",
              "      <th>2</th>\n",
              "      <th>3</th>\n",
              "      <th>4</th>\n",
              "      <th>5</th>\n",
              "      <th>6</th>\n",
              "      <th>7</th>\n",
              "      <th>8</th>\n",
              "      <th>9</th>\n",
              "      <th>...</th>\n",
              "      <th>1280</th>\n",
              "      <th>1281</th>\n",
              "      <th>1282</th>\n",
              "      <th>1283</th>\n",
              "      <th>1284</th>\n",
              "      <th>1285</th>\n",
              "      <th>1286</th>\n",
              "      <th>1287</th>\n",
              "      <th>1288</th>\n",
              "      <th>1289</th>\n",
              "    </tr>\n",
              "  </thead>\n",
              "  <tbody>\n",
              "    <tr>\n",
              "      <th>0</th>\n",
              "      <td></td>\n",
              "      <td></td>\n",
              "      <td>0.745599</td>\n",
              "      <td></td>\n",
              "      <td></td>\n",
              "      <td></td>\n",
              "      <td></td>\n",
              "      <td></td>\n",
              "      <td></td>\n",
              "      <td></td>\n",
              "      <td>...</td>\n",
              "      <td></td>\n",
              "      <td></td>\n",
              "      <td></td>\n",
              "      <td></td>\n",
              "      <td></td>\n",
              "      <td></td>\n",
              "      <td></td>\n",
              "      <td></td>\n",
              "      <td></td>\n",
              "      <td></td>\n",
              "    </tr>\n",
              "    <tr>\n",
              "      <th>1</th>\n",
              "      <td></td>\n",
              "      <td></td>\n",
              "      <td>1.118402</td>\n",
              "      <td></td>\n",
              "      <td></td>\n",
              "      <td></td>\n",
              "      <td></td>\n",
              "      <td></td>\n",
              "      <td></td>\n",
              "      <td></td>\n",
              "      <td>...</td>\n",
              "      <td></td>\n",
              "      <td></td>\n",
              "      <td></td>\n",
              "      <td></td>\n",
              "      <td></td>\n",
              "      <td></td>\n",
              "      <td></td>\n",
              "      <td></td>\n",
              "      <td></td>\n",
              "      <td></td>\n",
              "    </tr>\n",
              "    <tr>\n",
              "      <th>2</th>\n",
              "      <td>0.372801</td>\n",
              "      <td>1.491198</td>\n",
              "      <td></td>\n",
              "      <td></td>\n",
              "      <td></td>\n",
              "      <td></td>\n",
              "      <td></td>\n",
              "      <td></td>\n",
              "      <td></td>\n",
              "      <td></td>\n",
              "      <td>...</td>\n",
              "      <td></td>\n",
              "      <td></td>\n",
              "      <td></td>\n",
              "      <td></td>\n",
              "      <td></td>\n",
              "      <td></td>\n",
              "      <td></td>\n",
              "      <td></td>\n",
              "      <td></td>\n",
              "      <td></td>\n",
              "    </tr>\n",
              "    <tr>\n",
              "      <th>3</th>\n",
              "      <td></td>\n",
              "      <td></td>\n",
              "      <td></td>\n",
              "      <td></td>\n",
              "      <td></td>\n",
              "      <td></td>\n",
              "      <td></td>\n",
              "      <td></td>\n",
              "      <td></td>\n",
              "      <td>0.372801</td>\n",
              "      <td>...</td>\n",
              "      <td></td>\n",
              "      <td></td>\n",
              "      <td></td>\n",
              "      <td></td>\n",
              "      <td></td>\n",
              "      <td></td>\n",
              "      <td></td>\n",
              "      <td></td>\n",
              "      <td></td>\n",
              "      <td></td>\n",
              "    </tr>\n",
              "    <tr>\n",
              "      <th>4</th>\n",
              "      <td></td>\n",
              "      <td></td>\n",
              "      <td></td>\n",
              "      <td></td>\n",
              "      <td></td>\n",
              "      <td></td>\n",
              "      <td></td>\n",
              "      <td></td>\n",
              "      <td></td>\n",
              "      <td></td>\n",
              "      <td>...</td>\n",
              "      <td></td>\n",
              "      <td></td>\n",
              "      <td></td>\n",
              "      <td></td>\n",
              "      <td></td>\n",
              "      <td></td>\n",
              "      <td></td>\n",
              "      <td></td>\n",
              "      <td></td>\n",
              "      <td></td>\n",
              "    </tr>\n",
              "  </tbody>\n",
              "</table>\n",
              "<p>5 rows × 1290 columns</p>\n",
              "</div>\n",
              "    <div class=\"colab-df-buttons\">\n",
              "\n",
              "  <div class=\"colab-df-container\">\n",
              "    <button class=\"colab-df-convert\" onclick=\"convertToInteractive('df-624d6428-0e2c-4f02-a7e8-5b3a9acc67f0')\"\n",
              "            title=\"Convert this dataframe to an interactive table.\"\n",
              "            style=\"display:none;\">\n",
              "\n",
              "  <svg xmlns=\"http://www.w3.org/2000/svg\" height=\"24px\" viewBox=\"0 -960 960 960\">\n",
              "    <path d=\"M120-120v-720h720v720H120Zm60-500h600v-160H180v160Zm220 220h160v-160H400v160Zm0 220h160v-160H400v160ZM180-400h160v-160H180v160Zm440 0h160v-160H620v160ZM180-180h160v-160H180v160Zm440 0h160v-160H620v160Z\"/>\n",
              "  </svg>\n",
              "    </button>\n",
              "\n",
              "  <style>\n",
              "    .colab-df-container {\n",
              "      display:flex;\n",
              "      gap: 12px;\n",
              "    }\n",
              "\n",
              "    .colab-df-convert {\n",
              "      background-color: #E8F0FE;\n",
              "      border: none;\n",
              "      border-radius: 50%;\n",
              "      cursor: pointer;\n",
              "      display: none;\n",
              "      fill: #1967D2;\n",
              "      height: 32px;\n",
              "      padding: 0 0 0 0;\n",
              "      width: 32px;\n",
              "    }\n",
              "\n",
              "    .colab-df-convert:hover {\n",
              "      background-color: #E2EBFA;\n",
              "      box-shadow: 0px 1px 2px rgba(60, 64, 67, 0.3), 0px 1px 3px 1px rgba(60, 64, 67, 0.15);\n",
              "      fill: #174EA6;\n",
              "    }\n",
              "\n",
              "    .colab-df-buttons div {\n",
              "      margin-bottom: 4px;\n",
              "    }\n",
              "\n",
              "    [theme=dark] .colab-df-convert {\n",
              "      background-color: #3B4455;\n",
              "      fill: #D2E3FC;\n",
              "    }\n",
              "\n",
              "    [theme=dark] .colab-df-convert:hover {\n",
              "      background-color: #434B5C;\n",
              "      box-shadow: 0px 1px 3px 1px rgba(0, 0, 0, 0.15);\n",
              "      filter: drop-shadow(0px 1px 2px rgba(0, 0, 0, 0.3));\n",
              "      fill: #FFFFFF;\n",
              "    }\n",
              "  </style>\n",
              "\n",
              "    <script>\n",
              "      const buttonEl =\n",
              "        document.querySelector('#df-624d6428-0e2c-4f02-a7e8-5b3a9acc67f0 button.colab-df-convert');\n",
              "      buttonEl.style.display =\n",
              "        google.colab.kernel.accessAllowed ? 'block' : 'none';\n",
              "\n",
              "      async function convertToInteractive(key) {\n",
              "        const element = document.querySelector('#df-624d6428-0e2c-4f02-a7e8-5b3a9acc67f0');\n",
              "        const dataTable =\n",
              "          await google.colab.kernel.invokeFunction('convertToInteractive',\n",
              "                                                    [key], {});\n",
              "        if (!dataTable) return;\n",
              "\n",
              "        const docLinkHtml = 'Like what you see? Visit the ' +\n",
              "          '<a target=\"_blank\" href=https://colab.research.google.com/notebooks/data_table.ipynb>data table notebook</a>'\n",
              "          + ' to learn more about interactive tables.';\n",
              "        element.innerHTML = '';\n",
              "        dataTable['output_type'] = 'display_data';\n",
              "        await google.colab.output.renderOutput(dataTable, element);\n",
              "        const docLink = document.createElement('div');\n",
              "        docLink.innerHTML = docLinkHtml;\n",
              "        element.appendChild(docLink);\n",
              "      }\n",
              "    </script>\n",
              "  </div>\n",
              "\n",
              "\n",
              "<div id=\"df-ac28fcae-878a-4ec5-9258-0d7989752003\">\n",
              "  <button class=\"colab-df-quickchart\" onclick=\"quickchart('df-ac28fcae-878a-4ec5-9258-0d7989752003')\"\n",
              "            title=\"Suggest charts\"\n",
              "            style=\"display:none;\">\n",
              "\n",
              "<svg xmlns=\"http://www.w3.org/2000/svg\" height=\"24px\"viewBox=\"0 0 24 24\"\n",
              "     width=\"24px\">\n",
              "    <g>\n",
              "        <path d=\"M19 3H5c-1.1 0-2 .9-2 2v14c0 1.1.9 2 2 2h14c1.1 0 2-.9 2-2V5c0-1.1-.9-2-2-2zM9 17H7v-7h2v7zm4 0h-2V7h2v10zm4 0h-2v-4h2v4z\"/>\n",
              "    </g>\n",
              "</svg>\n",
              "  </button>\n",
              "\n",
              "<style>\n",
              "  .colab-df-quickchart {\n",
              "      --bg-color: #E8F0FE;\n",
              "      --fill-color: #1967D2;\n",
              "      --hover-bg-color: #E2EBFA;\n",
              "      --hover-fill-color: #174EA6;\n",
              "      --disabled-fill-color: #AAA;\n",
              "      --disabled-bg-color: #DDD;\n",
              "  }\n",
              "\n",
              "  [theme=dark] .colab-df-quickchart {\n",
              "      --bg-color: #3B4455;\n",
              "      --fill-color: #D2E3FC;\n",
              "      --hover-bg-color: #434B5C;\n",
              "      --hover-fill-color: #FFFFFF;\n",
              "      --disabled-bg-color: #3B4455;\n",
              "      --disabled-fill-color: #666;\n",
              "  }\n",
              "\n",
              "  .colab-df-quickchart {\n",
              "    background-color: var(--bg-color);\n",
              "    border: none;\n",
              "    border-radius: 50%;\n",
              "    cursor: pointer;\n",
              "    display: none;\n",
              "    fill: var(--fill-color);\n",
              "    height: 32px;\n",
              "    padding: 0;\n",
              "    width: 32px;\n",
              "  }\n",
              "\n",
              "  .colab-df-quickchart:hover {\n",
              "    background-color: var(--hover-bg-color);\n",
              "    box-shadow: 0 1px 2px rgba(60, 64, 67, 0.3), 0 1px 3px 1px rgba(60, 64, 67, 0.15);\n",
              "    fill: var(--button-hover-fill-color);\n",
              "  }\n",
              "\n",
              "  .colab-df-quickchart-complete:disabled,\n",
              "  .colab-df-quickchart-complete:disabled:hover {\n",
              "    background-color: var(--disabled-bg-color);\n",
              "    fill: var(--disabled-fill-color);\n",
              "    box-shadow: none;\n",
              "  }\n",
              "\n",
              "  .colab-df-spinner {\n",
              "    border: 2px solid var(--fill-color);\n",
              "    border-color: transparent;\n",
              "    border-bottom-color: var(--fill-color);\n",
              "    animation:\n",
              "      spin 1s steps(1) infinite;\n",
              "  }\n",
              "\n",
              "  @keyframes spin {\n",
              "    0% {\n",
              "      border-color: transparent;\n",
              "      border-bottom-color: var(--fill-color);\n",
              "      border-left-color: var(--fill-color);\n",
              "    }\n",
              "    20% {\n",
              "      border-color: transparent;\n",
              "      border-left-color: var(--fill-color);\n",
              "      border-top-color: var(--fill-color);\n",
              "    }\n",
              "    30% {\n",
              "      border-color: transparent;\n",
              "      border-left-color: var(--fill-color);\n",
              "      border-top-color: var(--fill-color);\n",
              "      border-right-color: var(--fill-color);\n",
              "    }\n",
              "    40% {\n",
              "      border-color: transparent;\n",
              "      border-right-color: var(--fill-color);\n",
              "      border-top-color: var(--fill-color);\n",
              "    }\n",
              "    60% {\n",
              "      border-color: transparent;\n",
              "      border-right-color: var(--fill-color);\n",
              "    }\n",
              "    80% {\n",
              "      border-color: transparent;\n",
              "      border-right-color: var(--fill-color);\n",
              "      border-bottom-color: var(--fill-color);\n",
              "    }\n",
              "    90% {\n",
              "      border-color: transparent;\n",
              "      border-bottom-color: var(--fill-color);\n",
              "    }\n",
              "  }\n",
              "</style>\n",
              "\n",
              "  <script>\n",
              "    async function quickchart(key) {\n",
              "      const quickchartButtonEl =\n",
              "        document.querySelector('#' + key + ' button');\n",
              "      quickchartButtonEl.disabled = true;  // To prevent multiple clicks.\n",
              "      quickchartButtonEl.classList.add('colab-df-spinner');\n",
              "      try {\n",
              "        const charts = await google.colab.kernel.invokeFunction(\n",
              "            'suggestCharts', [key], {});\n",
              "      } catch (error) {\n",
              "        console.error('Error during call to suggestCharts:', error);\n",
              "      }\n",
              "      quickchartButtonEl.classList.remove('colab-df-spinner');\n",
              "      quickchartButtonEl.classList.add('colab-df-quickchart-complete');\n",
              "    }\n",
              "    (() => {\n",
              "      let quickchartButtonEl =\n",
              "        document.querySelector('#df-ac28fcae-878a-4ec5-9258-0d7989752003 button');\n",
              "      quickchartButtonEl.style.display =\n",
              "        google.colab.kernel.accessAllowed ? 'block' : 'none';\n",
              "    })();\n",
              "  </script>\n",
              "</div>\n",
              "\n",
              "    </div>\n",
              "  </div>\n"
            ],
            "application/vnd.google.colaboratory.intrinsic+json": {
              "type": "dataframe",
              "variable_name": "t"
            }
          },
          "metadata": {},
          "execution_count": 356
        }
      ]
    },
    {
      "cell_type": "code",
      "source": [
        "betweenness = nx.betweenness_centrality(G, weight='weight')\n",
        "sorted_betweenness = sorted(betweenness.items(), key=lambda x: x[1], reverse=True)[:3]\n",
        "\n"
      ],
      "metadata": {
        "colab": {
          "base_uri": "https://localhost:8080/",
          "height": 603
        },
        "id": "4dGYSItMc9v_",
        "outputId": "7c3d6c4a-176b-479f-aaa3-c5575482f936"
      },
      "execution_count": null,
      "outputs": [
        {
          "output_type": "stream",
          "name": "stdout",
          "text": [
            "\n",
            "Top 3 nodes with highest betweenness centrality:\n",
            "Node -118.4474886 34.0709689: 0.1797\n",
            "Node -118.4460763 34.0709692: 0.1589\n",
            "Node -118.444538 34.0721914: 0.1405\n"
          ]
        },
        {
          "output_type": "display_data",
          "data": {
            "text/plain": [
              "<Figure size 640x480 with 1 Axes>"
            ],
            "image/png": "[encoded data removed]"
          },
          "metadata": {}
        }
      ]
    },
    {
      "cell_type": "code",
      "source": [
        "import networkx as nx\n",
        "import matplotlib.pyplot as plt\n",
        "\n",
        "# Create a random graph to simulate the campus network\n",
        "# For realism, use a connected graph such as a Watts-Strogatz small-world graph\n",
        "G = nx.watts_strogatz_graph(n=1290, k=4, p=0.25)\n",
        "\n",
        "# Compute betweenness centrality for each node\n",
        "betweenness = nx.betweenness_centrality(G)\n",
        "\n",
        "# Extract centrality values\n",
        "centrality_values = list(betweenness.values())\n",
        "\n",
        "# Plot the distribution\n",
        "plt.figure(figsize=(10, 6))\n",
        "plt.hist(centrality_values, bins=50, edgecolor='black')\n",
        "plt.title(\"Distribution of Betweenness Centrality (UCLA Campus Simulation)\")\n",
        "plt.xlabel(\"Betweenness Centrality\")\n",
        "plt.ylabel(\"Number of Nodes\")\n",
        "plt.grid(True)\n",
        "plt.tight_layout()\n",
        "plt.show()\n"
      ],
      "metadata": {
        "colab": {
          "base_uri": "https://localhost:8080/",
          "height": 607
        },
        "id": "LTmaWXIEJdPh",
        "outputId": "8b4bd6e9-0147-4a0a-860d-3f68341bfc5d"
      },
      "execution_count": null,
      "outputs": [
        {
          "output_type": "display_data",
          "data": {
            "text/plain": [
              "<Figure size 1000x600 with 1 Axes>"
            ],
            "image/png": "[encoded data removed]"
          },
          "metadata": {}
        }
      ]
    },
    {
      "cell_type": "code",
      "source": [
        "import matplotlib.pyplot as plt\n",
        "import seaborn as sns\n",
        "import numpy as np\n",
        "\n",
        "# Generate random centrality values as an example (replace with real data)\n",
        " # For reproducibility\n",
        "centrality_values = np.random.beta(2, 8, 1000) * 0.3  # Simulating values up to 0.18\n",
        "\n",
        "# Plotting the distribution\n",
        "plt.figure(figsize=(8, 6))\n",
        "sns.histplot(centrality_values, bins=30, kde=True, color='purple')\n",
        "plt.title('Distribution of Betweenness Centralities on UCLA Campus')\n",
        "plt.xlabel('Betweenness Centrality')\n",
        "plt.ylabel('Frequency')\n",
        "plt.xlim(0, 0.18)\n",
        "plt.show()\n"
      ],
      "metadata": {
        "colab": {
          "base_uri": "https://localhost:8080/",
          "height": 564
        },
        "id": "O-O_37L3KMym",
        "outputId": "2dbc046f-1fd1-4386-a563-d4c80873c117"
      },
      "execution_count": null,
      "outputs": [
        {
          "output_type": "display_data",
          "data": {
            "text/plain": [
              "<Figure size 800x600 with 1 Axes>"
            ],
            "image/png": "[encoded data removed]"
          },
          "metadata": {}
        }
      ]
    },
    {
      "cell_type": "code",
      "source": [
        "import networkx as nx\n",
        "import matplotlib.pyplot as plt\n",
        "\n",
        "# Create a random graph to simulate the campus network\n",
        "# For realism, use a connected graph such as a Watts-Strogatz small-world graph\n",
        "G = nx.watts_strogatz_graph(n=1290, k=4, p=0.012)\n",
        "\n",
        "# Compute betweenness centrality for each node\n",
        "betweenness = nx.betweenness_centrality(G)\n",
        "\n",
        "# Extract centrality values\n",
        "centrality_values = list(betweenness.values())\n",
        "\n",
        "# Plot the distribution\n",
        "plt.figure(figsize=(10, 6))\n",
        "plt.hist(centrality_values, bins=50, edgecolor='black')\n",
        "plt.title(\"Distribution of Betweenness Centrality\")\n",
        "plt.xlabel(\"Betweenness Centrality\")\n",
        "plt.ylabel(\"Number of Nodes\")\n",
        "plt.grid(True)\n",
        "plt.tight_layout()\n",
        "plt.show()"
      ],
      "metadata": {
        "colab": {
          "base_uri": "https://localhost:8080/",
          "height": 607
        },
        "id": "K0QGIZSAKib5",
        "outputId": "10522d1c-516b-44bc-eb8c-9e296bed05d8"
      },
      "execution_count": null,
      "outputs": [
        {
          "output_type": "display_data",
          "data": {
            "text/plain": [
              "<Figure size 1000x600 with 1 Axes>"
            ],
            "image/png": "[encoded data removed]"
          },
          "metadata": {}
        }
      ]
    }
  ]
}